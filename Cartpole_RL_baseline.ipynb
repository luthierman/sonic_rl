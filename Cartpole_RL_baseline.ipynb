{
  "nbformat": 4,
  "nbformat_minor": 0,
  "metadata": {
    "colab": {
      "name": "Cartpole_RL_baseline.ipynb",
      "provenance": [],
      "authorship_tag": "ABX9TyMqBqQt/PBkyRXCzqaXi4tg",
      "include_colab_link": true
    },
    "kernelspec": {
      "name": "python3",
      "display_name": "Python 3"
    },
    "language_info": {
      "name": "python"
    },
    "accelerator": "GPU",
    "widgets": {
      "application/vnd.jupyter.widget-state+json": {
        "431440cf65af4611b3c598f32a428658": {
          "model_module": "@jupyter-widgets/controls",
          "model_name": "VBoxModel",
          "model_module_version": "1.5.0",
          "state": {
            "_view_name": "VBoxView",
            "_dom_classes": [],
            "_model_name": "VBoxModel",
            "_view_module": "@jupyter-widgets/controls",
            "_model_module_version": "1.5.0",
            "_view_count": null,
            "_view_module_version": "1.5.0",
            "box_style": "",
            "layout": "IPY_MODEL_c7aaf533457a411cb65b4a689173aaca",
            "_model_module": "@jupyter-widgets/controls",
            "children": [
              "IPY_MODEL_0d1d3afa3f6c47b0aadc30ff86f30592",
              "IPY_MODEL_4dc372c682234bc9945e92714efbf72a"
            ]
          }
        },
        "c7aaf533457a411cb65b4a689173aaca": {
          "model_module": "@jupyter-widgets/base",
          "model_name": "LayoutModel",
          "model_module_version": "1.2.0",
          "state": {
            "_view_name": "LayoutView",
            "grid_template_rows": null,
            "right": null,
            "justify_content": null,
            "_view_module": "@jupyter-widgets/base",
            "overflow": null,
            "_model_module_version": "1.2.0",
            "_view_count": null,
            "flex_flow": null,
            "width": null,
            "min_width": null,
            "border": null,
            "align_items": null,
            "bottom": null,
            "_model_module": "@jupyter-widgets/base",
            "top": null,
            "grid_column": null,
            "overflow_y": null,
            "overflow_x": null,
            "grid_auto_flow": null,
            "grid_area": null,
            "grid_template_columns": null,
            "flex": null,
            "_model_name": "LayoutModel",
            "justify_items": null,
            "grid_row": null,
            "max_height": null,
            "align_content": null,
            "visibility": null,
            "align_self": null,
            "height": null,
            "min_height": null,
            "padding": null,
            "grid_auto_rows": null,
            "grid_gap": null,
            "max_width": null,
            "order": null,
            "_view_module_version": "1.2.0",
            "grid_template_areas": null,
            "object_position": null,
            "object_fit": null,
            "grid_auto_columns": null,
            "margin": null,
            "display": null,
            "left": null
          }
        },
        "0d1d3afa3f6c47b0aadc30ff86f30592": {
          "model_module": "@jupyter-widgets/controls",
          "model_name": "LabelModel",
          "model_module_version": "1.5.0",
          "state": {
            "_view_name": "LabelView",
            "style": "IPY_MODEL_58b15d0e28514469941ec756eea10afd",
            "_dom_classes": [],
            "description": "",
            "_model_name": "LabelModel",
            "placeholder": "​",
            "_view_module": "@jupyter-widgets/controls",
            "_model_module_version": "1.5.0",
            "value": " 0.64MB of 0.64MB uploaded (0.00MB deduped)\r",
            "_view_count": null,
            "_view_module_version": "1.5.0",
            "description_tooltip": null,
            "_model_module": "@jupyter-widgets/controls",
            "layout": "IPY_MODEL_f05bc5a810a448b98e25c93b8e0a064b"
          }
        },
        "4dc372c682234bc9945e92714efbf72a": {
          "model_module": "@jupyter-widgets/controls",
          "model_name": "FloatProgressModel",
          "model_module_version": "1.5.0",
          "state": {
            "_view_name": "ProgressView",
            "style": "IPY_MODEL_cc33e598c26c4e8fb18a831388ade81c",
            "_dom_classes": [],
            "description": "",
            "_model_name": "FloatProgressModel",
            "bar_style": "",
            "max": 1,
            "_view_module": "@jupyter-widgets/controls",
            "_model_module_version": "1.5.0",
            "value": 1,
            "_view_count": null,
            "_view_module_version": "1.5.0",
            "orientation": "horizontal",
            "min": 0,
            "description_tooltip": null,
            "_model_module": "@jupyter-widgets/controls",
            "layout": "IPY_MODEL_88a4680e17cf4214ab24fb3235b41abf"
          }
        },
        "58b15d0e28514469941ec756eea10afd": {
          "model_module": "@jupyter-widgets/controls",
          "model_name": "DescriptionStyleModel",
          "model_module_version": "1.5.0",
          "state": {
            "_view_name": "StyleView",
            "_model_name": "DescriptionStyleModel",
            "description_width": "",
            "_view_module": "@jupyter-widgets/base",
            "_model_module_version": "1.5.0",
            "_view_count": null,
            "_view_module_version": "1.2.0",
            "_model_module": "@jupyter-widgets/controls"
          }
        },
        "f05bc5a810a448b98e25c93b8e0a064b": {
          "model_module": "@jupyter-widgets/base",
          "model_name": "LayoutModel",
          "model_module_version": "1.2.0",
          "state": {
            "_view_name": "LayoutView",
            "grid_template_rows": null,
            "right": null,
            "justify_content": null,
            "_view_module": "@jupyter-widgets/base",
            "overflow": null,
            "_model_module_version": "1.2.0",
            "_view_count": null,
            "flex_flow": null,
            "width": null,
            "min_width": null,
            "border": null,
            "align_items": null,
            "bottom": null,
            "_model_module": "@jupyter-widgets/base",
            "top": null,
            "grid_column": null,
            "overflow_y": null,
            "overflow_x": null,
            "grid_auto_flow": null,
            "grid_area": null,
            "grid_template_columns": null,
            "flex": null,
            "_model_name": "LayoutModel",
            "justify_items": null,
            "grid_row": null,
            "max_height": null,
            "align_content": null,
            "visibility": null,
            "align_self": null,
            "height": null,
            "min_height": null,
            "padding": null,
            "grid_auto_rows": null,
            "grid_gap": null,
            "max_width": null,
            "order": null,
            "_view_module_version": "1.2.0",
            "grid_template_areas": null,
            "object_position": null,
            "object_fit": null,
            "grid_auto_columns": null,
            "margin": null,
            "display": null,
            "left": null
          }
        },
        "cc33e598c26c4e8fb18a831388ade81c": {
          "model_module": "@jupyter-widgets/controls",
          "model_name": "ProgressStyleModel",
          "model_module_version": "1.5.0",
          "state": {
            "_view_name": "StyleView",
            "_model_name": "ProgressStyleModel",
            "description_width": "",
            "_view_module": "@jupyter-widgets/base",
            "_model_module_version": "1.5.0",
            "_view_count": null,
            "_view_module_version": "1.2.0",
            "bar_color": null,
            "_model_module": "@jupyter-widgets/controls"
          }
        },
        "88a4680e17cf4214ab24fb3235b41abf": {
          "model_module": "@jupyter-widgets/base",
          "model_name": "LayoutModel",
          "model_module_version": "1.2.0",
          "state": {
            "_view_name": "LayoutView",
            "grid_template_rows": null,
            "right": null,
            "justify_content": null,
            "_view_module": "@jupyter-widgets/base",
            "overflow": null,
            "_model_module_version": "1.2.0",
            "_view_count": null,
            "flex_flow": null,
            "width": null,
            "min_width": null,
            "border": null,
            "align_items": null,
            "bottom": null,
            "_model_module": "@jupyter-widgets/base",
            "top": null,
            "grid_column": null,
            "overflow_y": null,
            "overflow_x": null,
            "grid_auto_flow": null,
            "grid_area": null,
            "grid_template_columns": null,
            "flex": null,
            "_model_name": "LayoutModel",
            "justify_items": null,
            "grid_row": null,
            "max_height": null,
            "align_content": null,
            "visibility": null,
            "align_self": null,
            "height": null,
            "min_height": null,
            "padding": null,
            "grid_auto_rows": null,
            "grid_gap": null,
            "max_width": null,
            "order": null,
            "_view_module_version": "1.2.0",
            "grid_template_areas": null,
            "object_position": null,
            "object_fit": null,
            "grid_auto_columns": null,
            "margin": null,
            "display": null,
            "left": null
          }
        },
        "d822f026e2014b0d977e41392acb54a6": {
          "model_module": "@jupyter-widgets/controls",
          "model_name": "VBoxModel",
          "model_module_version": "1.5.0",
          "state": {
            "_view_name": "VBoxView",
            "_dom_classes": [],
            "_model_name": "VBoxModel",
            "_view_module": "@jupyter-widgets/controls",
            "_model_module_version": "1.5.0",
            "_view_count": null,
            "_view_module_version": "1.5.0",
            "box_style": "",
            "layout": "IPY_MODEL_ef836c42345649e19253d6c1ddf3124d",
            "_model_module": "@jupyter-widgets/controls",
            "children": [
              "IPY_MODEL_9b774eae27334fe6a83118f9068eb216",
              "IPY_MODEL_638401ec19a944bb89058d9c59f81084"
            ]
          }
        },
        "ef836c42345649e19253d6c1ddf3124d": {
          "model_module": "@jupyter-widgets/base",
          "model_name": "LayoutModel",
          "model_module_version": "1.2.0",
          "state": {
            "_view_name": "LayoutView",
            "grid_template_rows": null,
            "right": null,
            "justify_content": null,
            "_view_module": "@jupyter-widgets/base",
            "overflow": null,
            "_model_module_version": "1.2.0",
            "_view_count": null,
            "flex_flow": null,
            "width": null,
            "min_width": null,
            "border": null,
            "align_items": null,
            "bottom": null,
            "_model_module": "@jupyter-widgets/base",
            "top": null,
            "grid_column": null,
            "overflow_y": null,
            "overflow_x": null,
            "grid_auto_flow": null,
            "grid_area": null,
            "grid_template_columns": null,
            "flex": null,
            "_model_name": "LayoutModel",
            "justify_items": null,
            "grid_row": null,
            "max_height": null,
            "align_content": null,
            "visibility": null,
            "align_self": null,
            "height": null,
            "min_height": null,
            "padding": null,
            "grid_auto_rows": null,
            "grid_gap": null,
            "max_width": null,
            "order": null,
            "_view_module_version": "1.2.0",
            "grid_template_areas": null,
            "object_position": null,
            "object_fit": null,
            "grid_auto_columns": null,
            "margin": null,
            "display": null,
            "left": null
          }
        },
        "9b774eae27334fe6a83118f9068eb216": {
          "model_module": "@jupyter-widgets/controls",
          "model_name": "LabelModel",
          "model_module_version": "1.5.0",
          "state": {
            "_view_name": "LabelView",
            "style": "IPY_MODEL_cdb510516be34d019b3d09c4c416d66d",
            "_dom_classes": [],
            "description": "",
            "_model_name": "LabelModel",
            "placeholder": "​",
            "_view_module": "@jupyter-widgets/controls",
            "_model_module_version": "1.5.0",
            "value": " 0.66MB of 0.66MB uploaded (0.00MB deduped)\r",
            "_view_count": null,
            "_view_module_version": "1.5.0",
            "description_tooltip": null,
            "_model_module": "@jupyter-widgets/controls",
            "layout": "IPY_MODEL_7c3f30d54daf41d385b1fe2703acda6b"
          }
        },
        "638401ec19a944bb89058d9c59f81084": {
          "model_module": "@jupyter-widgets/controls",
          "model_name": "FloatProgressModel",
          "model_module_version": "1.5.0",
          "state": {
            "_view_name": "ProgressView",
            "style": "IPY_MODEL_c5d1f52ad5f244398c18a1147cbf07f1",
            "_dom_classes": [],
            "description": "",
            "_model_name": "FloatProgressModel",
            "bar_style": "",
            "max": 1,
            "_view_module": "@jupyter-widgets/controls",
            "_model_module_version": "1.5.0",
            "value": 1,
            "_view_count": null,
            "_view_module_version": "1.5.0",
            "orientation": "horizontal",
            "min": 0,
            "description_tooltip": null,
            "_model_module": "@jupyter-widgets/controls",
            "layout": "IPY_MODEL_7e9defa001cc48a4b1fb7fe197ef134f"
          }
        },
        "cdb510516be34d019b3d09c4c416d66d": {
          "model_module": "@jupyter-widgets/controls",
          "model_name": "DescriptionStyleModel",
          "model_module_version": "1.5.0",
          "state": {
            "_view_name": "StyleView",
            "_model_name": "DescriptionStyleModel",
            "description_width": "",
            "_view_module": "@jupyter-widgets/base",
            "_model_module_version": "1.5.0",
            "_view_count": null,
            "_view_module_version": "1.2.0",
            "_model_module": "@jupyter-widgets/controls"
          }
        },
        "7c3f30d54daf41d385b1fe2703acda6b": {
          "model_module": "@jupyter-widgets/base",
          "model_name": "LayoutModel",
          "model_module_version": "1.2.0",
          "state": {
            "_view_name": "LayoutView",
            "grid_template_rows": null,
            "right": null,
            "justify_content": null,
            "_view_module": "@jupyter-widgets/base",
            "overflow": null,
            "_model_module_version": "1.2.0",
            "_view_count": null,
            "flex_flow": null,
            "width": null,
            "min_width": null,
            "border": null,
            "align_items": null,
            "bottom": null,
            "_model_module": "@jupyter-widgets/base",
            "top": null,
            "grid_column": null,
            "overflow_y": null,
            "overflow_x": null,
            "grid_auto_flow": null,
            "grid_area": null,
            "grid_template_columns": null,
            "flex": null,
            "_model_name": "LayoutModel",
            "justify_items": null,
            "grid_row": null,
            "max_height": null,
            "align_content": null,
            "visibility": null,
            "align_self": null,
            "height": null,
            "min_height": null,
            "padding": null,
            "grid_auto_rows": null,
            "grid_gap": null,
            "max_width": null,
            "order": null,
            "_view_module_version": "1.2.0",
            "grid_template_areas": null,
            "object_position": null,
            "object_fit": null,
            "grid_auto_columns": null,
            "margin": null,
            "display": null,
            "left": null
          }
        },
        "c5d1f52ad5f244398c18a1147cbf07f1": {
          "model_module": "@jupyter-widgets/controls",
          "model_name": "ProgressStyleModel",
          "model_module_version": "1.5.0",
          "state": {
            "_view_name": "StyleView",
            "_model_name": "ProgressStyleModel",
            "description_width": "",
            "_view_module": "@jupyter-widgets/base",
            "_model_module_version": "1.5.0",
            "_view_count": null,
            "_view_module_version": "1.2.0",
            "bar_color": null,
            "_model_module": "@jupyter-widgets/controls"
          }
        },
        "7e9defa001cc48a4b1fb7fe197ef134f": {
          "model_module": "@jupyter-widgets/base",
          "model_name": "LayoutModel",
          "model_module_version": "1.2.0",
          "state": {
            "_view_name": "LayoutView",
            "grid_template_rows": null,
            "right": null,
            "justify_content": null,
            "_view_module": "@jupyter-widgets/base",
            "overflow": null,
            "_model_module_version": "1.2.0",
            "_view_count": null,
            "flex_flow": null,
            "width": null,
            "min_width": null,
            "border": null,
            "align_items": null,
            "bottom": null,
            "_model_module": "@jupyter-widgets/base",
            "top": null,
            "grid_column": null,
            "overflow_y": null,
            "overflow_x": null,
            "grid_auto_flow": null,
            "grid_area": null,
            "grid_template_columns": null,
            "flex": null,
            "_model_name": "LayoutModel",
            "justify_items": null,
            "grid_row": null,
            "max_height": null,
            "align_content": null,
            "visibility": null,
            "align_self": null,
            "height": null,
            "min_height": null,
            "padding": null,
            "grid_auto_rows": null,
            "grid_gap": null,
            "max_width": null,
            "order": null,
            "_view_module_version": "1.2.0",
            "grid_template_areas": null,
            "object_position": null,
            "object_fit": null,
            "grid_auto_columns": null,
            "margin": null,
            "display": null,
            "left": null
          }
        },
        "e75a1769237140b7893a1347a6ce2bd4": {
          "model_module": "@jupyter-widgets/controls",
          "model_name": "VBoxModel",
          "model_module_version": "1.5.0",
          "state": {
            "_view_name": "VBoxView",
            "_dom_classes": [],
            "_model_name": "VBoxModel",
            "_view_module": "@jupyter-widgets/controls",
            "_model_module_version": "1.5.0",
            "_view_count": null,
            "_view_module_version": "1.5.0",
            "box_style": "",
            "layout": "IPY_MODEL_0608d73218524a96985fae5bbb7daa3e",
            "_model_module": "@jupyter-widgets/controls",
            "children": [
              "IPY_MODEL_8714a94ece4b4a92a12b326b7e47af3a",
              "IPY_MODEL_d721d6687e4e4d3fa3d56bf1e16fd68d"
            ]
          }
        },
        "0608d73218524a96985fae5bbb7daa3e": {
          "model_module": "@jupyter-widgets/base",
          "model_name": "LayoutModel",
          "model_module_version": "1.2.0",
          "state": {
            "_view_name": "LayoutView",
            "grid_template_rows": null,
            "right": null,
            "justify_content": null,
            "_view_module": "@jupyter-widgets/base",
            "overflow": null,
            "_model_module_version": "1.2.0",
            "_view_count": null,
            "flex_flow": null,
            "width": null,
            "min_width": null,
            "border": null,
            "align_items": null,
            "bottom": null,
            "_model_module": "@jupyter-widgets/base",
            "top": null,
            "grid_column": null,
            "overflow_y": null,
            "overflow_x": null,
            "grid_auto_flow": null,
            "grid_area": null,
            "grid_template_columns": null,
            "flex": null,
            "_model_name": "LayoutModel",
            "justify_items": null,
            "grid_row": null,
            "max_height": null,
            "align_content": null,
            "visibility": null,
            "align_self": null,
            "height": null,
            "min_height": null,
            "padding": null,
            "grid_auto_rows": null,
            "grid_gap": null,
            "max_width": null,
            "order": null,
            "_view_module_version": "1.2.0",
            "grid_template_areas": null,
            "object_position": null,
            "object_fit": null,
            "grid_auto_columns": null,
            "margin": null,
            "display": null,
            "left": null
          }
        },
        "8714a94ece4b4a92a12b326b7e47af3a": {
          "model_module": "@jupyter-widgets/controls",
          "model_name": "LabelModel",
          "model_module_version": "1.5.0",
          "state": {
            "_view_name": "LabelView",
            "style": "IPY_MODEL_eb6353abdb3947e184249fa2d7be18d6",
            "_dom_classes": [],
            "description": "",
            "_model_name": "LabelModel",
            "placeholder": "​",
            "_view_module": "@jupyter-widgets/controls",
            "_model_module_version": "1.5.0",
            "value": " 0.67MB of 0.67MB uploaded (0.00MB deduped)\r",
            "_view_count": null,
            "_view_module_version": "1.5.0",
            "description_tooltip": null,
            "_model_module": "@jupyter-widgets/controls",
            "layout": "IPY_MODEL_2c52b13f15994a1ebae3e3095a712368"
          }
        },
        "d721d6687e4e4d3fa3d56bf1e16fd68d": {
          "model_module": "@jupyter-widgets/controls",
          "model_name": "FloatProgressModel",
          "model_module_version": "1.5.0",
          "state": {
            "_view_name": "ProgressView",
            "style": "IPY_MODEL_87d13113efff49a3a74b4ab55919b314",
            "_dom_classes": [],
            "description": "",
            "_model_name": "FloatProgressModel",
            "bar_style": "",
            "max": 1,
            "_view_module": "@jupyter-widgets/controls",
            "_model_module_version": "1.5.0",
            "value": 1,
            "_view_count": null,
            "_view_module_version": "1.5.0",
            "orientation": "horizontal",
            "min": 0,
            "description_tooltip": null,
            "_model_module": "@jupyter-widgets/controls",
            "layout": "IPY_MODEL_e22c77206f354b08a299527497662b4b"
          }
        },
        "eb6353abdb3947e184249fa2d7be18d6": {
          "model_module": "@jupyter-widgets/controls",
          "model_name": "DescriptionStyleModel",
          "model_module_version": "1.5.0",
          "state": {
            "_view_name": "StyleView",
            "_model_name": "DescriptionStyleModel",
            "description_width": "",
            "_view_module": "@jupyter-widgets/base",
            "_model_module_version": "1.5.0",
            "_view_count": null,
            "_view_module_version": "1.2.0",
            "_model_module": "@jupyter-widgets/controls"
          }
        },
        "2c52b13f15994a1ebae3e3095a712368": {
          "model_module": "@jupyter-widgets/base",
          "model_name": "LayoutModel",
          "model_module_version": "1.2.0",
          "state": {
            "_view_name": "LayoutView",
            "grid_template_rows": null,
            "right": null,
            "justify_content": null,
            "_view_module": "@jupyter-widgets/base",
            "overflow": null,
            "_model_module_version": "1.2.0",
            "_view_count": null,
            "flex_flow": null,
            "width": null,
            "min_width": null,
            "border": null,
            "align_items": null,
            "bottom": null,
            "_model_module": "@jupyter-widgets/base",
            "top": null,
            "grid_column": null,
            "overflow_y": null,
            "overflow_x": null,
            "grid_auto_flow": null,
            "grid_area": null,
            "grid_template_columns": null,
            "flex": null,
            "_model_name": "LayoutModel",
            "justify_items": null,
            "grid_row": null,
            "max_height": null,
            "align_content": null,
            "visibility": null,
            "align_self": null,
            "height": null,
            "min_height": null,
            "padding": null,
            "grid_auto_rows": null,
            "grid_gap": null,
            "max_width": null,
            "order": null,
            "_view_module_version": "1.2.0",
            "grid_template_areas": null,
            "object_position": null,
            "object_fit": null,
            "grid_auto_columns": null,
            "margin": null,
            "display": null,
            "left": null
          }
        },
        "87d13113efff49a3a74b4ab55919b314": {
          "model_module": "@jupyter-widgets/controls",
          "model_name": "ProgressStyleModel",
          "model_module_version": "1.5.0",
          "state": {
            "_view_name": "StyleView",
            "_model_name": "ProgressStyleModel",
            "description_width": "",
            "_view_module": "@jupyter-widgets/base",
            "_model_module_version": "1.5.0",
            "_view_count": null,
            "_view_module_version": "1.2.0",
            "bar_color": null,
            "_model_module": "@jupyter-widgets/controls"
          }
        },
        "e22c77206f354b08a299527497662b4b": {
          "model_module": "@jupyter-widgets/base",
          "model_name": "LayoutModel",
          "model_module_version": "1.2.0",
          "state": {
            "_view_name": "LayoutView",
            "grid_template_rows": null,
            "right": null,
            "justify_content": null,
            "_view_module": "@jupyter-widgets/base",
            "overflow": null,
            "_model_module_version": "1.2.0",
            "_view_count": null,
            "flex_flow": null,
            "width": null,
            "min_width": null,
            "border": null,
            "align_items": null,
            "bottom": null,
            "_model_module": "@jupyter-widgets/base",
            "top": null,
            "grid_column": null,
            "overflow_y": null,
            "overflow_x": null,
            "grid_auto_flow": null,
            "grid_area": null,
            "grid_template_columns": null,
            "flex": null,
            "_model_name": "LayoutModel",
            "justify_items": null,
            "grid_row": null,
            "max_height": null,
            "align_content": null,
            "visibility": null,
            "align_self": null,
            "height": null,
            "min_height": null,
            "padding": null,
            "grid_auto_rows": null,
            "grid_gap": null,
            "max_width": null,
            "order": null,
            "_view_module_version": "1.2.0",
            "grid_template_areas": null,
            "object_position": null,
            "object_fit": null,
            "grid_auto_columns": null,
            "margin": null,
            "display": null,
            "left": null
          }
        },
        "14f9211a8d634dc5b9a5df7ce3c7008f": {
          "model_module": "@jupyter-widgets/controls",
          "model_name": "VBoxModel",
          "model_module_version": "1.5.0",
          "state": {
            "_view_name": "VBoxView",
            "_dom_classes": [],
            "_model_name": "VBoxModel",
            "_view_module": "@jupyter-widgets/controls",
            "_model_module_version": "1.5.0",
            "_view_count": null,
            "_view_module_version": "1.5.0",
            "box_style": "",
            "layout": "IPY_MODEL_e9b78d4430b94d8fa33500ed52c30cdc",
            "_model_module": "@jupyter-widgets/controls",
            "children": [
              "IPY_MODEL_0b13d0f886f540688f4ae04a00e5ea74",
              "IPY_MODEL_350a1bbf256143b9a2289ff14b6beafd"
            ]
          }
        },
        "e9b78d4430b94d8fa33500ed52c30cdc": {
          "model_module": "@jupyter-widgets/base",
          "model_name": "LayoutModel",
          "model_module_version": "1.2.0",
          "state": {
            "_view_name": "LayoutView",
            "grid_template_rows": null,
            "right": null,
            "justify_content": null,
            "_view_module": "@jupyter-widgets/base",
            "overflow": null,
            "_model_module_version": "1.2.0",
            "_view_count": null,
            "flex_flow": null,
            "width": null,
            "min_width": null,
            "border": null,
            "align_items": null,
            "bottom": null,
            "_model_module": "@jupyter-widgets/base",
            "top": null,
            "grid_column": null,
            "overflow_y": null,
            "overflow_x": null,
            "grid_auto_flow": null,
            "grid_area": null,
            "grid_template_columns": null,
            "flex": null,
            "_model_name": "LayoutModel",
            "justify_items": null,
            "grid_row": null,
            "max_height": null,
            "align_content": null,
            "visibility": null,
            "align_self": null,
            "height": null,
            "min_height": null,
            "padding": null,
            "grid_auto_rows": null,
            "grid_gap": null,
            "max_width": null,
            "order": null,
            "_view_module_version": "1.2.0",
            "grid_template_areas": null,
            "object_position": null,
            "object_fit": null,
            "grid_auto_columns": null,
            "margin": null,
            "display": null,
            "left": null
          }
        },
        "0b13d0f886f540688f4ae04a00e5ea74": {
          "model_module": "@jupyter-widgets/controls",
          "model_name": "LabelModel",
          "model_module_version": "1.5.0",
          "state": {
            "_view_name": "LabelView",
            "style": "IPY_MODEL_8939f760a3234783ba71f586a1e8fae3",
            "_dom_classes": [],
            "description": "",
            "_model_name": "LabelModel",
            "placeholder": "​",
            "_view_module": "@jupyter-widgets/controls",
            "_model_module_version": "1.5.0",
            "value": " 0.64MB of 0.64MB uploaded (0.00MB deduped)\r",
            "_view_count": null,
            "_view_module_version": "1.5.0",
            "description_tooltip": null,
            "_model_module": "@jupyter-widgets/controls",
            "layout": "IPY_MODEL_e116b36841d649179fe42cd5ee2efc07"
          }
        },
        "350a1bbf256143b9a2289ff14b6beafd": {
          "model_module": "@jupyter-widgets/controls",
          "model_name": "FloatProgressModel",
          "model_module_version": "1.5.0",
          "state": {
            "_view_name": "ProgressView",
            "style": "IPY_MODEL_b0fe87958d0946e7bd7f47b70bf29424",
            "_dom_classes": [],
            "description": "",
            "_model_name": "FloatProgressModel",
            "bar_style": "",
            "max": 1,
            "_view_module": "@jupyter-widgets/controls",
            "_model_module_version": "1.5.0",
            "value": 1,
            "_view_count": null,
            "_view_module_version": "1.5.0",
            "orientation": "horizontal",
            "min": 0,
            "description_tooltip": null,
            "_model_module": "@jupyter-widgets/controls",
            "layout": "IPY_MODEL_a05fae0de18c4e67a8d9c1162a14b2a3"
          }
        },
        "8939f760a3234783ba71f586a1e8fae3": {
          "model_module": "@jupyter-widgets/controls",
          "model_name": "DescriptionStyleModel",
          "model_module_version": "1.5.0",
          "state": {
            "_view_name": "StyleView",
            "_model_name": "DescriptionStyleModel",
            "description_width": "",
            "_view_module": "@jupyter-widgets/base",
            "_model_module_version": "1.5.0",
            "_view_count": null,
            "_view_module_version": "1.2.0",
            "_model_module": "@jupyter-widgets/controls"
          }
        },
        "e116b36841d649179fe42cd5ee2efc07": {
          "model_module": "@jupyter-widgets/base",
          "model_name": "LayoutModel",
          "model_module_version": "1.2.0",
          "state": {
            "_view_name": "LayoutView",
            "grid_template_rows": null,
            "right": null,
            "justify_content": null,
            "_view_module": "@jupyter-widgets/base",
            "overflow": null,
            "_model_module_version": "1.2.0",
            "_view_count": null,
            "flex_flow": null,
            "width": null,
            "min_width": null,
            "border": null,
            "align_items": null,
            "bottom": null,
            "_model_module": "@jupyter-widgets/base",
            "top": null,
            "grid_column": null,
            "overflow_y": null,
            "overflow_x": null,
            "grid_auto_flow": null,
            "grid_area": null,
            "grid_template_columns": null,
            "flex": null,
            "_model_name": "LayoutModel",
            "justify_items": null,
            "grid_row": null,
            "max_height": null,
            "align_content": null,
            "visibility": null,
            "align_self": null,
            "height": null,
            "min_height": null,
            "padding": null,
            "grid_auto_rows": null,
            "grid_gap": null,
            "max_width": null,
            "order": null,
            "_view_module_version": "1.2.0",
            "grid_template_areas": null,
            "object_position": null,
            "object_fit": null,
            "grid_auto_columns": null,
            "margin": null,
            "display": null,
            "left": null
          }
        },
        "b0fe87958d0946e7bd7f47b70bf29424": {
          "model_module": "@jupyter-widgets/controls",
          "model_name": "ProgressStyleModel",
          "model_module_version": "1.5.0",
          "state": {
            "_view_name": "StyleView",
            "_model_name": "ProgressStyleModel",
            "description_width": "",
            "_view_module": "@jupyter-widgets/base",
            "_model_module_version": "1.5.0",
            "_view_count": null,
            "_view_module_version": "1.2.0",
            "bar_color": null,
            "_model_module": "@jupyter-widgets/controls"
          }
        },
        "a05fae0de18c4e67a8d9c1162a14b2a3": {
          "model_module": "@jupyter-widgets/base",
          "model_name": "LayoutModel",
          "model_module_version": "1.2.0",
          "state": {
            "_view_name": "LayoutView",
            "grid_template_rows": null,
            "right": null,
            "justify_content": null,
            "_view_module": "@jupyter-widgets/base",
            "overflow": null,
            "_model_module_version": "1.2.0",
            "_view_count": null,
            "flex_flow": null,
            "width": null,
            "min_width": null,
            "border": null,
            "align_items": null,
            "bottom": null,
            "_model_module": "@jupyter-widgets/base",
            "top": null,
            "grid_column": null,
            "overflow_y": null,
            "overflow_x": null,
            "grid_auto_flow": null,
            "grid_area": null,
            "grid_template_columns": null,
            "flex": null,
            "_model_name": "LayoutModel",
            "justify_items": null,
            "grid_row": null,
            "max_height": null,
            "align_content": null,
            "visibility": null,
            "align_self": null,
            "height": null,
            "min_height": null,
            "padding": null,
            "grid_auto_rows": null,
            "grid_gap": null,
            "max_width": null,
            "order": null,
            "_view_module_version": "1.2.0",
            "grid_template_areas": null,
            "object_position": null,
            "object_fit": null,
            "grid_auto_columns": null,
            "margin": null,
            "display": null,
            "left": null
          }
        },
        "221bbd16a72a46f1a0317f27b1cf5bba": {
          "model_module": "@jupyter-widgets/controls",
          "model_name": "VBoxModel",
          "model_module_version": "1.5.0",
          "state": {
            "_view_name": "VBoxView",
            "_dom_classes": [],
            "_model_name": "VBoxModel",
            "_view_module": "@jupyter-widgets/controls",
            "_model_module_version": "1.5.0",
            "_view_count": null,
            "_view_module_version": "1.5.0",
            "box_style": "",
            "layout": "IPY_MODEL_2fe7b191e9f84a5e8dead05944e5a3ab",
            "_model_module": "@jupyter-widgets/controls",
            "children": [
              "IPY_MODEL_01bdb1f93952410b8437646c200d618e",
              "IPY_MODEL_f19bbd82ca6547499c10fa157d9a98f2"
            ]
          }
        },
        "2fe7b191e9f84a5e8dead05944e5a3ab": {
          "model_module": "@jupyter-widgets/base",
          "model_name": "LayoutModel",
          "model_module_version": "1.2.0",
          "state": {
            "_view_name": "LayoutView",
            "grid_template_rows": null,
            "right": null,
            "justify_content": null,
            "_view_module": "@jupyter-widgets/base",
            "overflow": null,
            "_model_module_version": "1.2.0",
            "_view_count": null,
            "flex_flow": null,
            "width": null,
            "min_width": null,
            "border": null,
            "align_items": null,
            "bottom": null,
            "_model_module": "@jupyter-widgets/base",
            "top": null,
            "grid_column": null,
            "overflow_y": null,
            "overflow_x": null,
            "grid_auto_flow": null,
            "grid_area": null,
            "grid_template_columns": null,
            "flex": null,
            "_model_name": "LayoutModel",
            "justify_items": null,
            "grid_row": null,
            "max_height": null,
            "align_content": null,
            "visibility": null,
            "align_self": null,
            "height": null,
            "min_height": null,
            "padding": null,
            "grid_auto_rows": null,
            "grid_gap": null,
            "max_width": null,
            "order": null,
            "_view_module_version": "1.2.0",
            "grid_template_areas": null,
            "object_position": null,
            "object_fit": null,
            "grid_auto_columns": null,
            "margin": null,
            "display": null,
            "left": null
          }
        },
        "01bdb1f93952410b8437646c200d618e": {
          "model_module": "@jupyter-widgets/controls",
          "model_name": "LabelModel",
          "model_module_version": "1.5.0",
          "state": {
            "_view_name": "LabelView",
            "style": "IPY_MODEL_dbdc17569051430b94adaccc0a49c718",
            "_dom_classes": [],
            "description": "",
            "_model_name": "LabelModel",
            "placeholder": "​",
            "_view_module": "@jupyter-widgets/controls",
            "_model_module_version": "1.5.0",
            "value": " 0.66MB of 0.66MB uploaded (0.00MB deduped)\r",
            "_view_count": null,
            "_view_module_version": "1.5.0",
            "description_tooltip": null,
            "_model_module": "@jupyter-widgets/controls",
            "layout": "IPY_MODEL_67d2ffdc2e414fbc9c1cff11b139f47d"
          }
        },
        "f19bbd82ca6547499c10fa157d9a98f2": {
          "model_module": "@jupyter-widgets/controls",
          "model_name": "FloatProgressModel",
          "model_module_version": "1.5.0",
          "state": {
            "_view_name": "ProgressView",
            "style": "IPY_MODEL_cd92e55b1ad041029f2bda0fb689c676",
            "_dom_classes": [],
            "description": "",
            "_model_name": "FloatProgressModel",
            "bar_style": "",
            "max": 1,
            "_view_module": "@jupyter-widgets/controls",
            "_model_module_version": "1.5.0",
            "value": 1,
            "_view_count": null,
            "_view_module_version": "1.5.0",
            "orientation": "horizontal",
            "min": 0,
            "description_tooltip": null,
            "_model_module": "@jupyter-widgets/controls",
            "layout": "IPY_MODEL_ee8bb00d8715424c8bf10d6f9399d4b1"
          }
        },
        "dbdc17569051430b94adaccc0a49c718": {
          "model_module": "@jupyter-widgets/controls",
          "model_name": "DescriptionStyleModel",
          "model_module_version": "1.5.0",
          "state": {
            "_view_name": "StyleView",
            "_model_name": "DescriptionStyleModel",
            "description_width": "",
            "_view_module": "@jupyter-widgets/base",
            "_model_module_version": "1.5.0",
            "_view_count": null,
            "_view_module_version": "1.2.0",
            "_model_module": "@jupyter-widgets/controls"
          }
        },
        "67d2ffdc2e414fbc9c1cff11b139f47d": {
          "model_module": "@jupyter-widgets/base",
          "model_name": "LayoutModel",
          "model_module_version": "1.2.0",
          "state": {
            "_view_name": "LayoutView",
            "grid_template_rows": null,
            "right": null,
            "justify_content": null,
            "_view_module": "@jupyter-widgets/base",
            "overflow": null,
            "_model_module_version": "1.2.0",
            "_view_count": null,
            "flex_flow": null,
            "width": null,
            "min_width": null,
            "border": null,
            "align_items": null,
            "bottom": null,
            "_model_module": "@jupyter-widgets/base",
            "top": null,
            "grid_column": null,
            "overflow_y": null,
            "overflow_x": null,
            "grid_auto_flow": null,
            "grid_area": null,
            "grid_template_columns": null,
            "flex": null,
            "_model_name": "LayoutModel",
            "justify_items": null,
            "grid_row": null,
            "max_height": null,
            "align_content": null,
            "visibility": null,
            "align_self": null,
            "height": null,
            "min_height": null,
            "padding": null,
            "grid_auto_rows": null,
            "grid_gap": null,
            "max_width": null,
            "order": null,
            "_view_module_version": "1.2.0",
            "grid_template_areas": null,
            "object_position": null,
            "object_fit": null,
            "grid_auto_columns": null,
            "margin": null,
            "display": null,
            "left": null
          }
        },
        "cd92e55b1ad041029f2bda0fb689c676": {
          "model_module": "@jupyter-widgets/controls",
          "model_name": "ProgressStyleModel",
          "model_module_version": "1.5.0",
          "state": {
            "_view_name": "StyleView",
            "_model_name": "ProgressStyleModel",
            "description_width": "",
            "_view_module": "@jupyter-widgets/base",
            "_model_module_version": "1.5.0",
            "_view_count": null,
            "_view_module_version": "1.2.0",
            "bar_color": null,
            "_model_module": "@jupyter-widgets/controls"
          }
        },
        "ee8bb00d8715424c8bf10d6f9399d4b1": {
          "model_module": "@jupyter-widgets/base",
          "model_name": "LayoutModel",
          "model_module_version": "1.2.0",
          "state": {
            "_view_name": "LayoutView",
            "grid_template_rows": null,
            "right": null,
            "justify_content": null,
            "_view_module": "@jupyter-widgets/base",
            "overflow": null,
            "_model_module_version": "1.2.0",
            "_view_count": null,
            "flex_flow": null,
            "width": null,
            "min_width": null,
            "border": null,
            "align_items": null,
            "bottom": null,
            "_model_module": "@jupyter-widgets/base",
            "top": null,
            "grid_column": null,
            "overflow_y": null,
            "overflow_x": null,
            "grid_auto_flow": null,
            "grid_area": null,
            "grid_template_columns": null,
            "flex": null,
            "_model_name": "LayoutModel",
            "justify_items": null,
            "grid_row": null,
            "max_height": null,
            "align_content": null,
            "visibility": null,
            "align_self": null,
            "height": null,
            "min_height": null,
            "padding": null,
            "grid_auto_rows": null,
            "grid_gap": null,
            "max_width": null,
            "order": null,
            "_view_module_version": "1.2.0",
            "grid_template_areas": null,
            "object_position": null,
            "object_fit": null,
            "grid_auto_columns": null,
            "margin": null,
            "display": null,
            "left": null
          }
        },
        "85b7d88e7a41482b96736bb5d98768d9": {
          "model_module": "@jupyter-widgets/controls",
          "model_name": "VBoxModel",
          "model_module_version": "1.5.0",
          "state": {
            "_view_name": "VBoxView",
            "_dom_classes": [],
            "_model_name": "VBoxModel",
            "_view_module": "@jupyter-widgets/controls",
            "_model_module_version": "1.5.0",
            "_view_count": null,
            "_view_module_version": "1.5.0",
            "box_style": "",
            "layout": "IPY_MODEL_e5f27a30ae55447c8906efbb10a41515",
            "_model_module": "@jupyter-widgets/controls",
            "children": [
              "IPY_MODEL_74908beca5e242f097dcc2273948370a",
              "IPY_MODEL_9cb8f150d2cf4722b2cd8e469b6c6c96"
            ]
          }
        },
        "e5f27a30ae55447c8906efbb10a41515": {
          "model_module": "@jupyter-widgets/base",
          "model_name": "LayoutModel",
          "model_module_version": "1.2.0",
          "state": {
            "_view_name": "LayoutView",
            "grid_template_rows": null,
            "right": null,
            "justify_content": null,
            "_view_module": "@jupyter-widgets/base",
            "overflow": null,
            "_model_module_version": "1.2.0",
            "_view_count": null,
            "flex_flow": null,
            "width": null,
            "min_width": null,
            "border": null,
            "align_items": null,
            "bottom": null,
            "_model_module": "@jupyter-widgets/base",
            "top": null,
            "grid_column": null,
            "overflow_y": null,
            "overflow_x": null,
            "grid_auto_flow": null,
            "grid_area": null,
            "grid_template_columns": null,
            "flex": null,
            "_model_name": "LayoutModel",
            "justify_items": null,
            "grid_row": null,
            "max_height": null,
            "align_content": null,
            "visibility": null,
            "align_self": null,
            "height": null,
            "min_height": null,
            "padding": null,
            "grid_auto_rows": null,
            "grid_gap": null,
            "max_width": null,
            "order": null,
            "_view_module_version": "1.2.0",
            "grid_template_areas": null,
            "object_position": null,
            "object_fit": null,
            "grid_auto_columns": null,
            "margin": null,
            "display": null,
            "left": null
          }
        },
        "74908beca5e242f097dcc2273948370a": {
          "model_module": "@jupyter-widgets/controls",
          "model_name": "LabelModel",
          "model_module_version": "1.5.0",
          "state": {
            "_view_name": "LabelView",
            "style": "IPY_MODEL_aca9e3117b4343dd9248e0e412f9a6a5",
            "_dom_classes": [],
            "description": "",
            "_model_name": "LabelModel",
            "placeholder": "​",
            "_view_module": "@jupyter-widgets/controls",
            "_model_module_version": "1.5.0",
            "value": " 0.67MB of 0.67MB uploaded (0.00MB deduped)\r",
            "_view_count": null,
            "_view_module_version": "1.5.0",
            "description_tooltip": null,
            "_model_module": "@jupyter-widgets/controls",
            "layout": "IPY_MODEL_07febb9b50b84b299f89656d0234a919"
          }
        },
        "9cb8f150d2cf4722b2cd8e469b6c6c96": {
          "model_module": "@jupyter-widgets/controls",
          "model_name": "FloatProgressModel",
          "model_module_version": "1.5.0",
          "state": {
            "_view_name": "ProgressView",
            "style": "IPY_MODEL_0114c16f5c074aa5b197c41f339c8a08",
            "_dom_classes": [],
            "description": "",
            "_model_name": "FloatProgressModel",
            "bar_style": "",
            "max": 1,
            "_view_module": "@jupyter-widgets/controls",
            "_model_module_version": "1.5.0",
            "value": 1,
            "_view_count": null,
            "_view_module_version": "1.5.0",
            "orientation": "horizontal",
            "min": 0,
            "description_tooltip": null,
            "_model_module": "@jupyter-widgets/controls",
            "layout": "IPY_MODEL_9f1bb9150a0144f09461aad71cffd2e0"
          }
        },
        "aca9e3117b4343dd9248e0e412f9a6a5": {
          "model_module": "@jupyter-widgets/controls",
          "model_name": "DescriptionStyleModel",
          "model_module_version": "1.5.0",
          "state": {
            "_view_name": "StyleView",
            "_model_name": "DescriptionStyleModel",
            "description_width": "",
            "_view_module": "@jupyter-widgets/base",
            "_model_module_version": "1.5.0",
            "_view_count": null,
            "_view_module_version": "1.2.0",
            "_model_module": "@jupyter-widgets/controls"
          }
        },
        "07febb9b50b84b299f89656d0234a919": {
          "model_module": "@jupyter-widgets/base",
          "model_name": "LayoutModel",
          "model_module_version": "1.2.0",
          "state": {
            "_view_name": "LayoutView",
            "grid_template_rows": null,
            "right": null,
            "justify_content": null,
            "_view_module": "@jupyter-widgets/base",
            "overflow": null,
            "_model_module_version": "1.2.0",
            "_view_count": null,
            "flex_flow": null,
            "width": null,
            "min_width": null,
            "border": null,
            "align_items": null,
            "bottom": null,
            "_model_module": "@jupyter-widgets/base",
            "top": null,
            "grid_column": null,
            "overflow_y": null,
            "overflow_x": null,
            "grid_auto_flow": null,
            "grid_area": null,
            "grid_template_columns": null,
            "flex": null,
            "_model_name": "LayoutModel",
            "justify_items": null,
            "grid_row": null,
            "max_height": null,
            "align_content": null,
            "visibility": null,
            "align_self": null,
            "height": null,
            "min_height": null,
            "padding": null,
            "grid_auto_rows": null,
            "grid_gap": null,
            "max_width": null,
            "order": null,
            "_view_module_version": "1.2.0",
            "grid_template_areas": null,
            "object_position": null,
            "object_fit": null,
            "grid_auto_columns": null,
            "margin": null,
            "display": null,
            "left": null
          }
        },
        "0114c16f5c074aa5b197c41f339c8a08": {
          "model_module": "@jupyter-widgets/controls",
          "model_name": "ProgressStyleModel",
          "model_module_version": "1.5.0",
          "state": {
            "_view_name": "StyleView",
            "_model_name": "ProgressStyleModel",
            "description_width": "",
            "_view_module": "@jupyter-widgets/base",
            "_model_module_version": "1.5.0",
            "_view_count": null,
            "_view_module_version": "1.2.0",
            "bar_color": null,
            "_model_module": "@jupyter-widgets/controls"
          }
        },
        "9f1bb9150a0144f09461aad71cffd2e0": {
          "model_module": "@jupyter-widgets/base",
          "model_name": "LayoutModel",
          "model_module_version": "1.2.0",
          "state": {
            "_view_name": "LayoutView",
            "grid_template_rows": null,
            "right": null,
            "justify_content": null,
            "_view_module": "@jupyter-widgets/base",
            "overflow": null,
            "_model_module_version": "1.2.0",
            "_view_count": null,
            "flex_flow": null,
            "width": null,
            "min_width": null,
            "border": null,
            "align_items": null,
            "bottom": null,
            "_model_module": "@jupyter-widgets/base",
            "top": null,
            "grid_column": null,
            "overflow_y": null,
            "overflow_x": null,
            "grid_auto_flow": null,
            "grid_area": null,
            "grid_template_columns": null,
            "flex": null,
            "_model_name": "LayoutModel",
            "justify_items": null,
            "grid_row": null,
            "max_height": null,
            "align_content": null,
            "visibility": null,
            "align_self": null,
            "height": null,
            "min_height": null,
            "padding": null,
            "grid_auto_rows": null,
            "grid_gap": null,
            "max_width": null,
            "order": null,
            "_view_module_version": "1.2.0",
            "grid_template_areas": null,
            "object_position": null,
            "object_fit": null,
            "grid_auto_columns": null,
            "margin": null,
            "display": null,
            "left": null
          }
        },
        "f4c5eac040df49ed9fb98af37dcd3699": {
          "model_module": "@jupyter-widgets/controls",
          "model_name": "VBoxModel",
          "model_module_version": "1.5.0",
          "state": {
            "_view_name": "VBoxView",
            "_dom_classes": [],
            "_model_name": "VBoxModel",
            "_view_module": "@jupyter-widgets/controls",
            "_model_module_version": "1.5.0",
            "_view_count": null,
            "_view_module_version": "1.5.0",
            "box_style": "",
            "layout": "IPY_MODEL_fc2830a4d6b2419ab665b022870fcc2e",
            "_model_module": "@jupyter-widgets/controls",
            "children": [
              "IPY_MODEL_a42c09b4eb4c4e2694539ddca741a08c",
              "IPY_MODEL_b71bd9aa3d7d499cbe7e3f0ef4a4fab6"
            ]
          }
        },
        "fc2830a4d6b2419ab665b022870fcc2e": {
          "model_module": "@jupyter-widgets/base",
          "model_name": "LayoutModel",
          "model_module_version": "1.2.0",
          "state": {
            "_view_name": "LayoutView",
            "grid_template_rows": null,
            "right": null,
            "justify_content": null,
            "_view_module": "@jupyter-widgets/base",
            "overflow": null,
            "_model_module_version": "1.2.0",
            "_view_count": null,
            "flex_flow": null,
            "width": null,
            "min_width": null,
            "border": null,
            "align_items": null,
            "bottom": null,
            "_model_module": "@jupyter-widgets/base",
            "top": null,
            "grid_column": null,
            "overflow_y": null,
            "overflow_x": null,
            "grid_auto_flow": null,
            "grid_area": null,
            "grid_template_columns": null,
            "flex": null,
            "_model_name": "LayoutModel",
            "justify_items": null,
            "grid_row": null,
            "max_height": null,
            "align_content": null,
            "visibility": null,
            "align_self": null,
            "height": null,
            "min_height": null,
            "padding": null,
            "grid_auto_rows": null,
            "grid_gap": null,
            "max_width": null,
            "order": null,
            "_view_module_version": "1.2.0",
            "grid_template_areas": null,
            "object_position": null,
            "object_fit": null,
            "grid_auto_columns": null,
            "margin": null,
            "display": null,
            "left": null
          }
        },
        "a42c09b4eb4c4e2694539ddca741a08c": {
          "model_module": "@jupyter-widgets/controls",
          "model_name": "LabelModel",
          "model_module_version": "1.5.0",
          "state": {
            "_view_name": "LabelView",
            "style": "IPY_MODEL_9ca4dd98676f4106817ef81f9908130e",
            "_dom_classes": [],
            "description": "",
            "_model_name": "LabelModel",
            "placeholder": "​",
            "_view_module": "@jupyter-widgets/controls",
            "_model_module_version": "1.5.0",
            "value": " 0.69MB of 0.69MB uploaded (0.00MB deduped)\r",
            "_view_count": null,
            "_view_module_version": "1.5.0",
            "description_tooltip": null,
            "_model_module": "@jupyter-widgets/controls",
            "layout": "IPY_MODEL_98fe4618699d4336959b5c8c606d12f0"
          }
        },
        "b71bd9aa3d7d499cbe7e3f0ef4a4fab6": {
          "model_module": "@jupyter-widgets/controls",
          "model_name": "FloatProgressModel",
          "model_module_version": "1.5.0",
          "state": {
            "_view_name": "ProgressView",
            "style": "IPY_MODEL_6085187dd2934c1f89f8f3bda9c8f506",
            "_dom_classes": [],
            "description": "",
            "_model_name": "FloatProgressModel",
            "bar_style": "",
            "max": 1,
            "_view_module": "@jupyter-widgets/controls",
            "_model_module_version": "1.5.0",
            "value": 1,
            "_view_count": null,
            "_view_module_version": "1.5.0",
            "orientation": "horizontal",
            "min": 0,
            "description_tooltip": null,
            "_model_module": "@jupyter-widgets/controls",
            "layout": "IPY_MODEL_df671e6bef2a4cc28f59f888024ccd14"
          }
        },
        "9ca4dd98676f4106817ef81f9908130e": {
          "model_module": "@jupyter-widgets/controls",
          "model_name": "DescriptionStyleModel",
          "model_module_version": "1.5.0",
          "state": {
            "_view_name": "StyleView",
            "_model_name": "DescriptionStyleModel",
            "description_width": "",
            "_view_module": "@jupyter-widgets/base",
            "_model_module_version": "1.5.0",
            "_view_count": null,
            "_view_module_version": "1.2.0",
            "_model_module": "@jupyter-widgets/controls"
          }
        },
        "98fe4618699d4336959b5c8c606d12f0": {
          "model_module": "@jupyter-widgets/base",
          "model_name": "LayoutModel",
          "model_module_version": "1.2.0",
          "state": {
            "_view_name": "LayoutView",
            "grid_template_rows": null,
            "right": null,
            "justify_content": null,
            "_view_module": "@jupyter-widgets/base",
            "overflow": null,
            "_model_module_version": "1.2.0",
            "_view_count": null,
            "flex_flow": null,
            "width": null,
            "min_width": null,
            "border": null,
            "align_items": null,
            "bottom": null,
            "_model_module": "@jupyter-widgets/base",
            "top": null,
            "grid_column": null,
            "overflow_y": null,
            "overflow_x": null,
            "grid_auto_flow": null,
            "grid_area": null,
            "grid_template_columns": null,
            "flex": null,
            "_model_name": "LayoutModel",
            "justify_items": null,
            "grid_row": null,
            "max_height": null,
            "align_content": null,
            "visibility": null,
            "align_self": null,
            "height": null,
            "min_height": null,
            "padding": null,
            "grid_auto_rows": null,
            "grid_gap": null,
            "max_width": null,
            "order": null,
            "_view_module_version": "1.2.0",
            "grid_template_areas": null,
            "object_position": null,
            "object_fit": null,
            "grid_auto_columns": null,
            "margin": null,
            "display": null,
            "left": null
          }
        },
        "6085187dd2934c1f89f8f3bda9c8f506": {
          "model_module": "@jupyter-widgets/controls",
          "model_name": "ProgressStyleModel",
          "model_module_version": "1.5.0",
          "state": {
            "_view_name": "StyleView",
            "_model_name": "ProgressStyleModel",
            "description_width": "",
            "_view_module": "@jupyter-widgets/base",
            "_model_module_version": "1.5.0",
            "_view_count": null,
            "_view_module_version": "1.2.0",
            "bar_color": null,
            "_model_module": "@jupyter-widgets/controls"
          }
        },
        "df671e6bef2a4cc28f59f888024ccd14": {
          "model_module": "@jupyter-widgets/base",
          "model_name": "LayoutModel",
          "model_module_version": "1.2.0",
          "state": {
            "_view_name": "LayoutView",
            "grid_template_rows": null,
            "right": null,
            "justify_content": null,
            "_view_module": "@jupyter-widgets/base",
            "overflow": null,
            "_model_module_version": "1.2.0",
            "_view_count": null,
            "flex_flow": null,
            "width": null,
            "min_width": null,
            "border": null,
            "align_items": null,
            "bottom": null,
            "_model_module": "@jupyter-widgets/base",
            "top": null,
            "grid_column": null,
            "overflow_y": null,
            "overflow_x": null,
            "grid_auto_flow": null,
            "grid_area": null,
            "grid_template_columns": null,
            "flex": null,
            "_model_name": "LayoutModel",
            "justify_items": null,
            "grid_row": null,
            "max_height": null,
            "align_content": null,
            "visibility": null,
            "align_self": null,
            "height": null,
            "min_height": null,
            "padding": null,
            "grid_auto_rows": null,
            "grid_gap": null,
            "max_width": null,
            "order": null,
            "_view_module_version": "1.2.0",
            "grid_template_areas": null,
            "object_position": null,
            "object_fit": null,
            "grid_auto_columns": null,
            "margin": null,
            "display": null,
            "left": null
          }
        },
        "4ec8392ff6b34a65bcfb9cc4570dc12e": {
          "model_module": "@jupyter-widgets/controls",
          "model_name": "VBoxModel",
          "model_module_version": "1.5.0",
          "state": {
            "_view_name": "VBoxView",
            "_dom_classes": [],
            "_model_name": "VBoxModel",
            "_view_module": "@jupyter-widgets/controls",
            "_model_module_version": "1.5.0",
            "_view_count": null,
            "_view_module_version": "1.5.0",
            "box_style": "",
            "layout": "IPY_MODEL_6d92ce3f0803463a8a1cf3f4823f83a0",
            "_model_module": "@jupyter-widgets/controls",
            "children": [
              "IPY_MODEL_11bffca55bc4484e8f63c50557c986d7",
              "IPY_MODEL_6c518070ee62494fa771025a311510fe"
            ]
          }
        },
        "6d92ce3f0803463a8a1cf3f4823f83a0": {
          "model_module": "@jupyter-widgets/base",
          "model_name": "LayoutModel",
          "model_module_version": "1.2.0",
          "state": {
            "_view_name": "LayoutView",
            "grid_template_rows": null,
            "right": null,
            "justify_content": null,
            "_view_module": "@jupyter-widgets/base",
            "overflow": null,
            "_model_module_version": "1.2.0",
            "_view_count": null,
            "flex_flow": null,
            "width": null,
            "min_width": null,
            "border": null,
            "align_items": null,
            "bottom": null,
            "_model_module": "@jupyter-widgets/base",
            "top": null,
            "grid_column": null,
            "overflow_y": null,
            "overflow_x": null,
            "grid_auto_flow": null,
            "grid_area": null,
            "grid_template_columns": null,
            "flex": null,
            "_model_name": "LayoutModel",
            "justify_items": null,
            "grid_row": null,
            "max_height": null,
            "align_content": null,
            "visibility": null,
            "align_self": null,
            "height": null,
            "min_height": null,
            "padding": null,
            "grid_auto_rows": null,
            "grid_gap": null,
            "max_width": null,
            "order": null,
            "_view_module_version": "1.2.0",
            "grid_template_areas": null,
            "object_position": null,
            "object_fit": null,
            "grid_auto_columns": null,
            "margin": null,
            "display": null,
            "left": null
          }
        },
        "11bffca55bc4484e8f63c50557c986d7": {
          "model_module": "@jupyter-widgets/controls",
          "model_name": "LabelModel",
          "model_module_version": "1.5.0",
          "state": {
            "_view_name": "LabelView",
            "style": "IPY_MODEL_531182ed5e174159bd17335355faceb1",
            "_dom_classes": [],
            "description": "",
            "_model_name": "LabelModel",
            "placeholder": "​",
            "_view_module": "@jupyter-widgets/controls",
            "_model_module_version": "1.5.0",
            "value": " 0.48MB of 0.48MB uploaded (0.00MB deduped)\r",
            "_view_count": null,
            "_view_module_version": "1.5.0",
            "description_tooltip": null,
            "_model_module": "@jupyter-widgets/controls",
            "layout": "IPY_MODEL_66a87212baf14a5eab7192b528239783"
          }
        },
        "6c518070ee62494fa771025a311510fe": {
          "model_module": "@jupyter-widgets/controls",
          "model_name": "FloatProgressModel",
          "model_module_version": "1.5.0",
          "state": {
            "_view_name": "ProgressView",
            "style": "IPY_MODEL_a475b4ae221b4c428bbf9785054ac6db",
            "_dom_classes": [],
            "description": "",
            "_model_name": "FloatProgressModel",
            "bar_style": "",
            "max": 1,
            "_view_module": "@jupyter-widgets/controls",
            "_model_module_version": "1.5.0",
            "value": 1,
            "_view_count": null,
            "_view_module_version": "1.5.0",
            "orientation": "horizontal",
            "min": 0,
            "description_tooltip": null,
            "_model_module": "@jupyter-widgets/controls",
            "layout": "IPY_MODEL_a6b39a852dc84ad68500c6cf4a4ccf63"
          }
        },
        "531182ed5e174159bd17335355faceb1": {
          "model_module": "@jupyter-widgets/controls",
          "model_name": "DescriptionStyleModel",
          "model_module_version": "1.5.0",
          "state": {
            "_view_name": "StyleView",
            "_model_name": "DescriptionStyleModel",
            "description_width": "",
            "_view_module": "@jupyter-widgets/base",
            "_model_module_version": "1.5.0",
            "_view_count": null,
            "_view_module_version": "1.2.0",
            "_model_module": "@jupyter-widgets/controls"
          }
        },
        "66a87212baf14a5eab7192b528239783": {
          "model_module": "@jupyter-widgets/base",
          "model_name": "LayoutModel",
          "model_module_version": "1.2.0",
          "state": {
            "_view_name": "LayoutView",
            "grid_template_rows": null,
            "right": null,
            "justify_content": null,
            "_view_module": "@jupyter-widgets/base",
            "overflow": null,
            "_model_module_version": "1.2.0",
            "_view_count": null,
            "flex_flow": null,
            "width": null,
            "min_width": null,
            "border": null,
            "align_items": null,
            "bottom": null,
            "_model_module": "@jupyter-widgets/base",
            "top": null,
            "grid_column": null,
            "overflow_y": null,
            "overflow_x": null,
            "grid_auto_flow": null,
            "grid_area": null,
            "grid_template_columns": null,
            "flex": null,
            "_model_name": "LayoutModel",
            "justify_items": null,
            "grid_row": null,
            "max_height": null,
            "align_content": null,
            "visibility": null,
            "align_self": null,
            "height": null,
            "min_height": null,
            "padding": null,
            "grid_auto_rows": null,
            "grid_gap": null,
            "max_width": null,
            "order": null,
            "_view_module_version": "1.2.0",
            "grid_template_areas": null,
            "object_position": null,
            "object_fit": null,
            "grid_auto_columns": null,
            "margin": null,
            "display": null,
            "left": null
          }
        },
        "a475b4ae221b4c428bbf9785054ac6db": {
          "model_module": "@jupyter-widgets/controls",
          "model_name": "ProgressStyleModel",
          "model_module_version": "1.5.0",
          "state": {
            "_view_name": "StyleView",
            "_model_name": "ProgressStyleModel",
            "description_width": "",
            "_view_module": "@jupyter-widgets/base",
            "_model_module_version": "1.5.0",
            "_view_count": null,
            "_view_module_version": "1.2.0",
            "bar_color": null,
            "_model_module": "@jupyter-widgets/controls"
          }
        },
        "a6b39a852dc84ad68500c6cf4a4ccf63": {
          "model_module": "@jupyter-widgets/base",
          "model_name": "LayoutModel",
          "model_module_version": "1.2.0",
          "state": {
            "_view_name": "LayoutView",
            "grid_template_rows": null,
            "right": null,
            "justify_content": null,
            "_view_module": "@jupyter-widgets/base",
            "overflow": null,
            "_model_module_version": "1.2.0",
            "_view_count": null,
            "flex_flow": null,
            "width": null,
            "min_width": null,
            "border": null,
            "align_items": null,
            "bottom": null,
            "_model_module": "@jupyter-widgets/base",
            "top": null,
            "grid_column": null,
            "overflow_y": null,
            "overflow_x": null,
            "grid_auto_flow": null,
            "grid_area": null,
            "grid_template_columns": null,
            "flex": null,
            "_model_name": "LayoutModel",
            "justify_items": null,
            "grid_row": null,
            "max_height": null,
            "align_content": null,
            "visibility": null,
            "align_self": null,
            "height": null,
            "min_height": null,
            "padding": null,
            "grid_auto_rows": null,
            "grid_gap": null,
            "max_width": null,
            "order": null,
            "_view_module_version": "1.2.0",
            "grid_template_areas": null,
            "object_position": null,
            "object_fit": null,
            "grid_auto_columns": null,
            "margin": null,
            "display": null,
            "left": null
          }
        },
        "fe602ad5a49545dfae92c23ee644bdc1": {
          "model_module": "@jupyter-widgets/controls",
          "model_name": "VBoxModel",
          "model_module_version": "1.5.0",
          "state": {
            "_view_name": "VBoxView",
            "_dom_classes": [],
            "_model_name": "VBoxModel",
            "_view_module": "@jupyter-widgets/controls",
            "_model_module_version": "1.5.0",
            "_view_count": null,
            "_view_module_version": "1.5.0",
            "box_style": "",
            "layout": "IPY_MODEL_706dda877f7945e08f42e070f321b226",
            "_model_module": "@jupyter-widgets/controls",
            "children": [
              "IPY_MODEL_92e6d9edd7de46018bf915603664f05d",
              "IPY_MODEL_eec35549316448ce927d6fe932363104"
            ]
          }
        },
        "706dda877f7945e08f42e070f321b226": {
          "model_module": "@jupyter-widgets/base",
          "model_name": "LayoutModel",
          "model_module_version": "1.2.0",
          "state": {
            "_view_name": "LayoutView",
            "grid_template_rows": null,
            "right": null,
            "justify_content": null,
            "_view_module": "@jupyter-widgets/base",
            "overflow": null,
            "_model_module_version": "1.2.0",
            "_view_count": null,
            "flex_flow": null,
            "width": null,
            "min_width": null,
            "border": null,
            "align_items": null,
            "bottom": null,
            "_model_module": "@jupyter-widgets/base",
            "top": null,
            "grid_column": null,
            "overflow_y": null,
            "overflow_x": null,
            "grid_auto_flow": null,
            "grid_area": null,
            "grid_template_columns": null,
            "flex": null,
            "_model_name": "LayoutModel",
            "justify_items": null,
            "grid_row": null,
            "max_height": null,
            "align_content": null,
            "visibility": null,
            "align_self": null,
            "height": null,
            "min_height": null,
            "padding": null,
            "grid_auto_rows": null,
            "grid_gap": null,
            "max_width": null,
            "order": null,
            "_view_module_version": "1.2.0",
            "grid_template_areas": null,
            "object_position": null,
            "object_fit": null,
            "grid_auto_columns": null,
            "margin": null,
            "display": null,
            "left": null
          }
        },
        "92e6d9edd7de46018bf915603664f05d": {
          "model_module": "@jupyter-widgets/controls",
          "model_name": "LabelModel",
          "model_module_version": "1.5.0",
          "state": {
            "_view_name": "LabelView",
            "style": "IPY_MODEL_87960dff7b5b4e8a85a832518cdede56",
            "_dom_classes": [],
            "description": "",
            "_model_name": "LabelModel",
            "placeholder": "​",
            "_view_module": "@jupyter-widgets/controls",
            "_model_module_version": "1.5.0",
            "value": " 0.44MB of 0.44MB uploaded (0.00MB deduped)\r",
            "_view_count": null,
            "_view_module_version": "1.5.0",
            "description_tooltip": null,
            "_model_module": "@jupyter-widgets/controls",
            "layout": "IPY_MODEL_2c12841d4cc84b27a5aa823a6f453a79"
          }
        },
        "eec35549316448ce927d6fe932363104": {
          "model_module": "@jupyter-widgets/controls",
          "model_name": "FloatProgressModel",
          "model_module_version": "1.5.0",
          "state": {
            "_view_name": "ProgressView",
            "style": "IPY_MODEL_54e53046fd7f4ad6ba1717a99b13e9a2",
            "_dom_classes": [],
            "description": "",
            "_model_name": "FloatProgressModel",
            "bar_style": "",
            "max": 1,
            "_view_module": "@jupyter-widgets/controls",
            "_model_module_version": "1.5.0",
            "value": 1,
            "_view_count": null,
            "_view_module_version": "1.5.0",
            "orientation": "horizontal",
            "min": 0,
            "description_tooltip": null,
            "_model_module": "@jupyter-widgets/controls",
            "layout": "IPY_MODEL_7825f35802ab4b3890104511edc48100"
          }
        },
        "87960dff7b5b4e8a85a832518cdede56": {
          "model_module": "@jupyter-widgets/controls",
          "model_name": "DescriptionStyleModel",
          "model_module_version": "1.5.0",
          "state": {
            "_view_name": "StyleView",
            "_model_name": "DescriptionStyleModel",
            "description_width": "",
            "_view_module": "@jupyter-widgets/base",
            "_model_module_version": "1.5.0",
            "_view_count": null,
            "_view_module_version": "1.2.0",
            "_model_module": "@jupyter-widgets/controls"
          }
        },
        "2c12841d4cc84b27a5aa823a6f453a79": {
          "model_module": "@jupyter-widgets/base",
          "model_name": "LayoutModel",
          "model_module_version": "1.2.0",
          "state": {
            "_view_name": "LayoutView",
            "grid_template_rows": null,
            "right": null,
            "justify_content": null,
            "_view_module": "@jupyter-widgets/base",
            "overflow": null,
            "_model_module_version": "1.2.0",
            "_view_count": null,
            "flex_flow": null,
            "width": null,
            "min_width": null,
            "border": null,
            "align_items": null,
            "bottom": null,
            "_model_module": "@jupyter-widgets/base",
            "top": null,
            "grid_column": null,
            "overflow_y": null,
            "overflow_x": null,
            "grid_auto_flow": null,
            "grid_area": null,
            "grid_template_columns": null,
            "flex": null,
            "_model_name": "LayoutModel",
            "justify_items": null,
            "grid_row": null,
            "max_height": null,
            "align_content": null,
            "visibility": null,
            "align_self": null,
            "height": null,
            "min_height": null,
            "padding": null,
            "grid_auto_rows": null,
            "grid_gap": null,
            "max_width": null,
            "order": null,
            "_view_module_version": "1.2.0",
            "grid_template_areas": null,
            "object_position": null,
            "object_fit": null,
            "grid_auto_columns": null,
            "margin": null,
            "display": null,
            "left": null
          }
        },
        "54e53046fd7f4ad6ba1717a99b13e9a2": {
          "model_module": "@jupyter-widgets/controls",
          "model_name": "ProgressStyleModel",
          "model_module_version": "1.5.0",
          "state": {
            "_view_name": "StyleView",
            "_model_name": "ProgressStyleModel",
            "description_width": "",
            "_view_module": "@jupyter-widgets/base",
            "_model_module_version": "1.5.0",
            "_view_count": null,
            "_view_module_version": "1.2.0",
            "bar_color": null,
            "_model_module": "@jupyter-widgets/controls"
          }
        },
        "7825f35802ab4b3890104511edc48100": {
          "model_module": "@jupyter-widgets/base",
          "model_name": "LayoutModel",
          "model_module_version": "1.2.0",
          "state": {
            "_view_name": "LayoutView",
            "grid_template_rows": null,
            "right": null,
            "justify_content": null,
            "_view_module": "@jupyter-widgets/base",
            "overflow": null,
            "_model_module_version": "1.2.0",
            "_view_count": null,
            "flex_flow": null,
            "width": null,
            "min_width": null,
            "border": null,
            "align_items": null,
            "bottom": null,
            "_model_module": "@jupyter-widgets/base",
            "top": null,
            "grid_column": null,
            "overflow_y": null,
            "overflow_x": null,
            "grid_auto_flow": null,
            "grid_area": null,
            "grid_template_columns": null,
            "flex": null,
            "_model_name": "LayoutModel",
            "justify_items": null,
            "grid_row": null,
            "max_height": null,
            "align_content": null,
            "visibility": null,
            "align_self": null,
            "height": null,
            "min_height": null,
            "padding": null,
            "grid_auto_rows": null,
            "grid_gap": null,
            "max_width": null,
            "order": null,
            "_view_module_version": "1.2.0",
            "grid_template_areas": null,
            "object_position": null,
            "object_fit": null,
            "grid_auto_columns": null,
            "margin": null,
            "display": null,
            "left": null
          }
        },
        "1fff5325122c496e94e1623b9b3817f0": {
          "model_module": "@jupyter-widgets/controls",
          "model_name": "VBoxModel",
          "model_module_version": "1.5.0",
          "state": {
            "_view_name": "VBoxView",
            "_dom_classes": [],
            "_model_name": "VBoxModel",
            "_view_module": "@jupyter-widgets/controls",
            "_model_module_version": "1.5.0",
            "_view_count": null,
            "_view_module_version": "1.5.0",
            "box_style": "",
            "layout": "IPY_MODEL_8cf4875f45a64b1ab03d7e77f6e2e857",
            "_model_module": "@jupyter-widgets/controls",
            "children": [
              "IPY_MODEL_b37e7ca166cc4c16a7948b4a0c7318fd",
              "IPY_MODEL_9263530173aa453685d7fb87c399aa61"
            ]
          }
        },
        "8cf4875f45a64b1ab03d7e77f6e2e857": {
          "model_module": "@jupyter-widgets/base",
          "model_name": "LayoutModel",
          "model_module_version": "1.2.0",
          "state": {
            "_view_name": "LayoutView",
            "grid_template_rows": null,
            "right": null,
            "justify_content": null,
            "_view_module": "@jupyter-widgets/base",
            "overflow": null,
            "_model_module_version": "1.2.0",
            "_view_count": null,
            "flex_flow": null,
            "width": null,
            "min_width": null,
            "border": null,
            "align_items": null,
            "bottom": null,
            "_model_module": "@jupyter-widgets/base",
            "top": null,
            "grid_column": null,
            "overflow_y": null,
            "overflow_x": null,
            "grid_auto_flow": null,
            "grid_area": null,
            "grid_template_columns": null,
            "flex": null,
            "_model_name": "LayoutModel",
            "justify_items": null,
            "grid_row": null,
            "max_height": null,
            "align_content": null,
            "visibility": null,
            "align_self": null,
            "height": null,
            "min_height": null,
            "padding": null,
            "grid_auto_rows": null,
            "grid_gap": null,
            "max_width": null,
            "order": null,
            "_view_module_version": "1.2.0",
            "grid_template_areas": null,
            "object_position": null,
            "object_fit": null,
            "grid_auto_columns": null,
            "margin": null,
            "display": null,
            "left": null
          }
        },
        "b37e7ca166cc4c16a7948b4a0c7318fd": {
          "model_module": "@jupyter-widgets/controls",
          "model_name": "LabelModel",
          "model_module_version": "1.5.0",
          "state": {
            "_view_name": "LabelView",
            "style": "IPY_MODEL_bee8cb3c4df2484596983f69f3d8ee77",
            "_dom_classes": [],
            "description": "",
            "_model_name": "LabelModel",
            "placeholder": "​",
            "_view_module": "@jupyter-widgets/controls",
            "_model_module_version": "1.5.0",
            "value": " 0.56MB of 0.56MB uploaded (0.00MB deduped)\r",
            "_view_count": null,
            "_view_module_version": "1.5.0",
            "description_tooltip": null,
            "_model_module": "@jupyter-widgets/controls",
            "layout": "IPY_MODEL_b433bdb6fca94538bc7ffc696403c495"
          }
        },
        "9263530173aa453685d7fb87c399aa61": {
          "model_module": "@jupyter-widgets/controls",
          "model_name": "FloatProgressModel",
          "model_module_version": "1.5.0",
          "state": {
            "_view_name": "ProgressView",
            "style": "IPY_MODEL_80cfe756003749e488104de194a316b5",
            "_dom_classes": [],
            "description": "",
            "_model_name": "FloatProgressModel",
            "bar_style": "",
            "max": 1,
            "_view_module": "@jupyter-widgets/controls",
            "_model_module_version": "1.5.0",
            "value": 1,
            "_view_count": null,
            "_view_module_version": "1.5.0",
            "orientation": "horizontal",
            "min": 0,
            "description_tooltip": null,
            "_model_module": "@jupyter-widgets/controls",
            "layout": "IPY_MODEL_b2f010cfcc74416f9e7da4a61471c685"
          }
        },
        "bee8cb3c4df2484596983f69f3d8ee77": {
          "model_module": "@jupyter-widgets/controls",
          "model_name": "DescriptionStyleModel",
          "model_module_version": "1.5.0",
          "state": {
            "_view_name": "StyleView",
            "_model_name": "DescriptionStyleModel",
            "description_width": "",
            "_view_module": "@jupyter-widgets/base",
            "_model_module_version": "1.5.0",
            "_view_count": null,
            "_view_module_version": "1.2.0",
            "_model_module": "@jupyter-widgets/controls"
          }
        },
        "b433bdb6fca94538bc7ffc696403c495": {
          "model_module": "@jupyter-widgets/base",
          "model_name": "LayoutModel",
          "model_module_version": "1.2.0",
          "state": {
            "_view_name": "LayoutView",
            "grid_template_rows": null,
            "right": null,
            "justify_content": null,
            "_view_module": "@jupyter-widgets/base",
            "overflow": null,
            "_model_module_version": "1.2.0",
            "_view_count": null,
            "flex_flow": null,
            "width": null,
            "min_width": null,
            "border": null,
            "align_items": null,
            "bottom": null,
            "_model_module": "@jupyter-widgets/base",
            "top": null,
            "grid_column": null,
            "overflow_y": null,
            "overflow_x": null,
            "grid_auto_flow": null,
            "grid_area": null,
            "grid_template_columns": null,
            "flex": null,
            "_model_name": "LayoutModel",
            "justify_items": null,
            "grid_row": null,
            "max_height": null,
            "align_content": null,
            "visibility": null,
            "align_self": null,
            "height": null,
            "min_height": null,
            "padding": null,
            "grid_auto_rows": null,
            "grid_gap": null,
            "max_width": null,
            "order": null,
            "_view_module_version": "1.2.0",
            "grid_template_areas": null,
            "object_position": null,
            "object_fit": null,
            "grid_auto_columns": null,
            "margin": null,
            "display": null,
            "left": null
          }
        },
        "80cfe756003749e488104de194a316b5": {
          "model_module": "@jupyter-widgets/controls",
          "model_name": "ProgressStyleModel",
          "model_module_version": "1.5.0",
          "state": {
            "_view_name": "StyleView",
            "_model_name": "ProgressStyleModel",
            "description_width": "",
            "_view_module": "@jupyter-widgets/base",
            "_model_module_version": "1.5.0",
            "_view_count": null,
            "_view_module_version": "1.2.0",
            "bar_color": null,
            "_model_module": "@jupyter-widgets/controls"
          }
        },
        "b2f010cfcc74416f9e7da4a61471c685": {
          "model_module": "@jupyter-widgets/base",
          "model_name": "LayoutModel",
          "model_module_version": "1.2.0",
          "state": {
            "_view_name": "LayoutView",
            "grid_template_rows": null,
            "right": null,
            "justify_content": null,
            "_view_module": "@jupyter-widgets/base",
            "overflow": null,
            "_model_module_version": "1.2.0",
            "_view_count": null,
            "flex_flow": null,
            "width": null,
            "min_width": null,
            "border": null,
            "align_items": null,
            "bottom": null,
            "_model_module": "@jupyter-widgets/base",
            "top": null,
            "grid_column": null,
            "overflow_y": null,
            "overflow_x": null,
            "grid_auto_flow": null,
            "grid_area": null,
            "grid_template_columns": null,
            "flex": null,
            "_model_name": "LayoutModel",
            "justify_items": null,
            "grid_row": null,
            "max_height": null,
            "align_content": null,
            "visibility": null,
            "align_self": null,
            "height": null,
            "min_height": null,
            "padding": null,
            "grid_auto_rows": null,
            "grid_gap": null,
            "max_width": null,
            "order": null,
            "_view_module_version": "1.2.0",
            "grid_template_areas": null,
            "object_position": null,
            "object_fit": null,
            "grid_auto_columns": null,
            "margin": null,
            "display": null,
            "left": null
          }
        },
        "d5ab117a96e74cba942bfc60190a6df5": {
          "model_module": "@jupyter-widgets/controls",
          "model_name": "VBoxModel",
          "model_module_version": "1.5.0",
          "state": {
            "_view_name": "VBoxView",
            "_dom_classes": [],
            "_model_name": "VBoxModel",
            "_view_module": "@jupyter-widgets/controls",
            "_model_module_version": "1.5.0",
            "_view_count": null,
            "_view_module_version": "1.5.0",
            "box_style": "",
            "layout": "IPY_MODEL_fe517382ffaa45f088ca88d4da1ebcf5",
            "_model_module": "@jupyter-widgets/controls",
            "children": [
              "IPY_MODEL_b7c792831a644c0c99fbdd22168effcd",
              "IPY_MODEL_72995268ac584a1db376f36d3b1482e5"
            ]
          }
        },
        "fe517382ffaa45f088ca88d4da1ebcf5": {
          "model_module": "@jupyter-widgets/base",
          "model_name": "LayoutModel",
          "model_module_version": "1.2.0",
          "state": {
            "_view_name": "LayoutView",
            "grid_template_rows": null,
            "right": null,
            "justify_content": null,
            "_view_module": "@jupyter-widgets/base",
            "overflow": null,
            "_model_module_version": "1.2.0",
            "_view_count": null,
            "flex_flow": null,
            "width": null,
            "min_width": null,
            "border": null,
            "align_items": null,
            "bottom": null,
            "_model_module": "@jupyter-widgets/base",
            "top": null,
            "grid_column": null,
            "overflow_y": null,
            "overflow_x": null,
            "grid_auto_flow": null,
            "grid_area": null,
            "grid_template_columns": null,
            "flex": null,
            "_model_name": "LayoutModel",
            "justify_items": null,
            "grid_row": null,
            "max_height": null,
            "align_content": null,
            "visibility": null,
            "align_self": null,
            "height": null,
            "min_height": null,
            "padding": null,
            "grid_auto_rows": null,
            "grid_gap": null,
            "max_width": null,
            "order": null,
            "_view_module_version": "1.2.0",
            "grid_template_areas": null,
            "object_position": null,
            "object_fit": null,
            "grid_auto_columns": null,
            "margin": null,
            "display": null,
            "left": null
          }
        },
        "b7c792831a644c0c99fbdd22168effcd": {
          "model_module": "@jupyter-widgets/controls",
          "model_name": "LabelModel",
          "model_module_version": "1.5.0",
          "state": {
            "_view_name": "LabelView",
            "style": "IPY_MODEL_ca07da9863ca4bc6997b78669dc4acc2",
            "_dom_classes": [],
            "description": "",
            "_model_name": "LabelModel",
            "placeholder": "​",
            "_view_module": "@jupyter-widgets/controls",
            "_model_module_version": "1.5.0",
            "value": " 0.57MB of 0.57MB uploaded (0.00MB deduped)\r",
            "_view_count": null,
            "_view_module_version": "1.5.0",
            "description_tooltip": null,
            "_model_module": "@jupyter-widgets/controls",
            "layout": "IPY_MODEL_c47da29008964cfbb80805417b09bdab"
          }
        },
        "72995268ac584a1db376f36d3b1482e5": {
          "model_module": "@jupyter-widgets/controls",
          "model_name": "FloatProgressModel",
          "model_module_version": "1.5.0",
          "state": {
            "_view_name": "ProgressView",
            "style": "IPY_MODEL_1aee1142cd224cfc80e20d8a7df6fa58",
            "_dom_classes": [],
            "description": "",
            "_model_name": "FloatProgressModel",
            "bar_style": "",
            "max": 1,
            "_view_module": "@jupyter-widgets/controls",
            "_model_module_version": "1.5.0",
            "value": 1,
            "_view_count": null,
            "_view_module_version": "1.5.0",
            "orientation": "horizontal",
            "min": 0,
            "description_tooltip": null,
            "_model_module": "@jupyter-widgets/controls",
            "layout": "IPY_MODEL_6f10caef33f4446799344594e1f5ed66"
          }
        },
        "ca07da9863ca4bc6997b78669dc4acc2": {
          "model_module": "@jupyter-widgets/controls",
          "model_name": "DescriptionStyleModel",
          "model_module_version": "1.5.0",
          "state": {
            "_view_name": "StyleView",
            "_model_name": "DescriptionStyleModel",
            "description_width": "",
            "_view_module": "@jupyter-widgets/base",
            "_model_module_version": "1.5.0",
            "_view_count": null,
            "_view_module_version": "1.2.0",
            "_model_module": "@jupyter-widgets/controls"
          }
        },
        "c47da29008964cfbb80805417b09bdab": {
          "model_module": "@jupyter-widgets/base",
          "model_name": "LayoutModel",
          "model_module_version": "1.2.0",
          "state": {
            "_view_name": "LayoutView",
            "grid_template_rows": null,
            "right": null,
            "justify_content": null,
            "_view_module": "@jupyter-widgets/base",
            "overflow": null,
            "_model_module_version": "1.2.0",
            "_view_count": null,
            "flex_flow": null,
            "width": null,
            "min_width": null,
            "border": null,
            "align_items": null,
            "bottom": null,
            "_model_module": "@jupyter-widgets/base",
            "top": null,
            "grid_column": null,
            "overflow_y": null,
            "overflow_x": null,
            "grid_auto_flow": null,
            "grid_area": null,
            "grid_template_columns": null,
            "flex": null,
            "_model_name": "LayoutModel",
            "justify_items": null,
            "grid_row": null,
            "max_height": null,
            "align_content": null,
            "visibility": null,
            "align_self": null,
            "height": null,
            "min_height": null,
            "padding": null,
            "grid_auto_rows": null,
            "grid_gap": null,
            "max_width": null,
            "order": null,
            "_view_module_version": "1.2.0",
            "grid_template_areas": null,
            "object_position": null,
            "object_fit": null,
            "grid_auto_columns": null,
            "margin": null,
            "display": null,
            "left": null
          }
        },
        "1aee1142cd224cfc80e20d8a7df6fa58": {
          "model_module": "@jupyter-widgets/controls",
          "model_name": "ProgressStyleModel",
          "model_module_version": "1.5.0",
          "state": {
            "_view_name": "StyleView",
            "_model_name": "ProgressStyleModel",
            "description_width": "",
            "_view_module": "@jupyter-widgets/base",
            "_model_module_version": "1.5.0",
            "_view_count": null,
            "_view_module_version": "1.2.0",
            "bar_color": null,
            "_model_module": "@jupyter-widgets/controls"
          }
        },
        "6f10caef33f4446799344594e1f5ed66": {
          "model_module": "@jupyter-widgets/base",
          "model_name": "LayoutModel",
          "model_module_version": "1.2.0",
          "state": {
            "_view_name": "LayoutView",
            "grid_template_rows": null,
            "right": null,
            "justify_content": null,
            "_view_module": "@jupyter-widgets/base",
            "overflow": null,
            "_model_module_version": "1.2.0",
            "_view_count": null,
            "flex_flow": null,
            "width": null,
            "min_width": null,
            "border": null,
            "align_items": null,
            "bottom": null,
            "_model_module": "@jupyter-widgets/base",
            "top": null,
            "grid_column": null,
            "overflow_y": null,
            "overflow_x": null,
            "grid_auto_flow": null,
            "grid_area": null,
            "grid_template_columns": null,
            "flex": null,
            "_model_name": "LayoutModel",
            "justify_items": null,
            "grid_row": null,
            "max_height": null,
            "align_content": null,
            "visibility": null,
            "align_self": null,
            "height": null,
            "min_height": null,
            "padding": null,
            "grid_auto_rows": null,
            "grid_gap": null,
            "max_width": null,
            "order": null,
            "_view_module_version": "1.2.0",
            "grid_template_areas": null,
            "object_position": null,
            "object_fit": null,
            "grid_auto_columns": null,
            "margin": null,
            "display": null,
            "left": null
          }
        }
      }
    }
  },
  "cells": [
    {
      "cell_type": "markdown",
      "metadata": {
        "id": "view-in-github",
        "colab_type": "text"
      },
      "source": [
        "<a href=\"https://colab.research.google.com/github/luthierman/sonic_rl/blob/master/Cartpole_RL_baseline.ipynb\" target=\"_parent\"><img src=\"https://colab.research.google.com/assets/colab-badge.svg\" alt=\"Open In Colab\"/></a>"
      ]
    },
    {
      "cell_type": "code",
      "execution_count": null,
      "metadata": {
        "id": "10-H7fwCihVX"
      },
      "outputs": [],
      "source": [
        "!apt install python-opengl xvfb\n",
        "!pip install pyvirtualdisplay stable_baselines3[extra] wandb\n",
        "!apt update && apt install xvfb && pip3 install pyvirtualdisplay && pip install pyvirtualdisplay\n"
      ]
    },
    {
      "cell_type": "code",
      "source": [
        "from pyvirtualdisplay import Display\n",
        "virtual_display = Display(visible=0, size=(1400, 900))\n",
        "virtual_display.start()"
      ],
      "metadata": {
        "colab": {
          "base_uri": "https://localhost:8080/"
        },
        "id": "bONdA3Al6dIH",
        "outputId": "79ed6b53-b46f-4004-8f54-1a066112c750"
      },
      "execution_count": 2,
      "outputs": [
        {
          "output_type": "execute_result",
          "data": {
            "text/plain": [
              "<pyvirtualdisplay.display.Display at 0x7fc91d07b7d0>"
            ]
          },
          "metadata": {},
          "execution_count": 2
        }
      ]
    },
    {
      "cell_type": "code",
      "source": [
        "import gym\n",
        "import torch \n",
        "import torch.nn as nn\n",
        "from stable_baselines3 import DQN\n",
        "from stable_baselines3.common.monitor import Monitor\n",
        "from stable_baselines3.dqn.policies import DQNPolicy\n",
        "\n",
        "from stable_baselines3.common.vec_env import DummyVecEnv, VecVideoRecorder\n",
        "import wandb\n",
        "from wandb.integration.sb3 import WandbCallback"
      ],
      "metadata": {
        "id": "FEtLr4n_e2wm"
      },
      "execution_count": 3,
      "outputs": []
    },
    {
      "cell_type": "code",
      "source": [
        "import torch.cuda\n",
        "import torch.nn as nn\n",
        "import torch.nn.functional as F\n",
        "\n",
        "def initialize_weights_dqn(agent, init=torch.nn.init.xavier_uniform_):\n",
        "  for i in agent.policy.q_net.q_net:\n",
        "    if type(i)==torch.nn.modules.linear.Linear:\n",
        "      init(i.weight)\n",
        "  agent.policy.q_net_target.q_net.load_state_dict(agent.policy.q_net.q_net.state_dict())\n",
        "  return agent"
      ],
      "metadata": {
        "id": "YhqmIoctjkCT"
      },
      "execution_count": 4,
      "outputs": []
    },
    {
      "cell_type": "code",
      "source": [
        "config_dqn_32 = {\n",
        "    \"policy_type\": \"MlpPolicy\",\n",
        "    \"total_timesteps\": 25000,\n",
        "    \"env_name\": \"CartPole-v1\",\n",
        "    \"batch_size\":32,\n",
        "    \"policy_kwargs\": dict(activation_fn=torch.nn.ReLU, net_arch=[64, 64]), \n",
        "    \"learning_rate\":.001,\n",
        "    \"seed\":10\n",
        "}\n",
        "\n",
        "config_dqn_64 = {\n",
        "    \"policy_type\": \"MlpPolicy\",\n",
        "    \"total_timesteps\": 25000,\n",
        "    \"env_name\": \"CartPole-v1\",\n",
        "    \"batch_size\":64,\n",
        "    \"policy_kwargs\": dict(activation_fn=torch.nn.ReLU, net_arch=[64, 64]), \n",
        "    \"learning_rate\":.001,\n",
        "    \"seed\":10\n",
        "}\n",
        "config_dqn_128 = {\n",
        "    \"policy_type\": \"MlpPolicy\",\n",
        "    \"total_timesteps\": 25000,\n",
        "    \"env_name\": \"CartPole-v1\",\n",
        "    \"batch_size\":128,\n",
        "    \"policy_kwargs\": dict(activation_fn=torch.nn.ReLU, net_arch=[64, 64]), \n",
        "    \"learning_rate\":.001,\n",
        "    \"seed\":10\n",
        "}\n",
        "\n",
        "\n",
        "\n",
        "\n"
      ],
      "metadata": {
        "id": "7jF7gv1Yj0WX"
      },
      "execution_count": 4,
      "outputs": []
    },
    {
      "cell_type": "code",
      "source": [
        "\n",
        "def run_dqn(config_dqn, initialize=False):\n",
        "  run = wandb.init(\n",
        "    project=\"test_rl\",\n",
        "    config=config_dqn,\n",
        "    sync_tensorboard=True,  # auto-upload sb3's tensorboard metrics\n",
        "    monitor_gym=True,  # auto-upload the videos of agents playing the game\n",
        "    save_code=True,  # optional\n",
        "  )\n",
        "  def make_env_dqn():\n",
        "    env = gym.make(config_dqn[\"env_name\"])\n",
        "    env = Monitor(env)  # record stats such as returns\n",
        "    return env\n",
        "  env_dqn = DummyVecEnv([make_env_dqn])\n",
        "  env_dqn = VecVideoRecorder(env_dqn, f\"videos/{run.id}\", record_video_trigger=lambda x: x % 2000 == 0, video_length=200)\n",
        "\n",
        "  agent_dqn = DQN(policy=config_dqn[\"policy_type\"],\n",
        "                    env=env_dqn,\n",
        "                    batch_size=config_dqn[\"batch_size\"],\n",
        "                    learning_rate=config_dqn[\"learning_rate\"],\n",
        "                    policy_kwargs=config_dqn[\"policy_kwargs\"],\n",
        "                    seed=config_dqn[\"seed\"],\n",
        "                    tensorboard_log=f\"runs/{run.id}\")\n",
        "  if initialize:\n",
        "    print(\"initialize\")\n",
        "    agent_dqn = initialize_weights_dqn(agent_dqn)\n",
        "  agent_dqn.learn(\n",
        "      total_timesteps=config_dqn[\"total_timesteps\"],\n",
        "      callback=WandbCallback(\n",
        "          gradient_save_freq=100,\n",
        "          model_save_path=f\"models/{run.id}\",\n",
        "          verbose=2,\n",
        "      ),\n",
        "  )\n",
        "  run.finish()\n"
      ],
      "metadata": {
        "id": "bZRVWE0m4twu"
      },
      "execution_count": 14,
      "outputs": []
    },
    {
      "cell_type": "code",
      "source": [
        "config_dqn = {\n",
        "    \"policy_type\": \"MlpPolicy\",\n",
        "    \"total_timesteps\": 25000,\n",
        "    \"env_name\": \"CartPole-v1\",\n",
        "    \"batch_size\":32,\n",
        "    \"policy_kwargs\": dict(activation_fn=torch.nn.ReLU, net_arch=[128, 128]), \n",
        "    \"learning_rate\":.0001,\n",
        "    \"seed\":None\n",
        "}\n",
        "run_dqn(config_dqn, True)"
      ],
      "metadata": {
        "colab": {
          "base_uri": "https://localhost:8080/",
          "height": 612,
          "referenced_widgets": [
            "431440cf65af4611b3c598f32a428658",
            "c7aaf533457a411cb65b4a689173aaca",
            "0d1d3afa3f6c47b0aadc30ff86f30592",
            "4dc372c682234bc9945e92714efbf72a",
            "58b15d0e28514469941ec756eea10afd",
            "f05bc5a810a448b98e25c93b8e0a064b",
            "cc33e598c26c4e8fb18a831388ade81c",
            "88a4680e17cf4214ab24fb3235b41abf"
          ]
        },
        "id": "uLtCNt5RBsQD",
        "outputId": "5413a5f0-0f25-423b-f54b-5ceb0bbd7af0"
      },
      "execution_count": 23,
      "outputs": [
        {
          "output_type": "display_data",
          "data": {
            "text/html": [
              "\n",
              "                    Syncing run <strong><a href=\"https://wandb.ai/luthier-man/test_rl/runs/kp9l1eh3\" target=\"_blank\">sunny-smoke-49</a></strong> to <a href=\"https://wandb.ai/luthier-man/test_rl\" target=\"_blank\">Weights & Biases</a> (<a href=\"https://docs.wandb.com/integrations/jupyter.html\" target=\"_blank\">docs</a>).<br/>\n",
              "\n",
              "                "
            ],
            "text/plain": [
              "<IPython.core.display.HTML object>"
            ]
          },
          "metadata": {}
        },
        {
          "output_type": "stream",
          "name": "stdout",
          "text": [
            "initialize\n"
          ]
        },
        {
          "output_type": "stream",
          "name": "stderr",
          "text": [
            "\u001b[34m\u001b[1mwandb\u001b[0m: \u001b[33mWARNING\u001b[0m When using several event log directories, please call wandb.tensorboard.patch(root_logdir=\"...\") before wandb.init\n"
          ]
        },
        {
          "output_type": "stream",
          "name": "stdout",
          "text": [
            "Saving video to /content/videos/kp9l1eh3/rl-video-step-0-to-step-200.mp4\n",
            "Saving video to /content/videos/kp9l1eh3/rl-video-step-2000-to-step-2200.mp4\n",
            "Saving video to /content/videos/kp9l1eh3/rl-video-step-4000-to-step-4200.mp4\n",
            "Saving video to /content/videos/kp9l1eh3/rl-video-step-6000-to-step-6200.mp4\n",
            "Saving video to /content/videos/kp9l1eh3/rl-video-step-8000-to-step-8200.mp4\n",
            "Saving video to /content/videos/kp9l1eh3/rl-video-step-10000-to-step-10200.mp4\n",
            "Saving video to /content/videos/kp9l1eh3/rl-video-step-12000-to-step-12200.mp4\n",
            "Saving video to /content/videos/kp9l1eh3/rl-video-step-14000-to-step-14200.mp4\n",
            "Saving video to /content/videos/kp9l1eh3/rl-video-step-16000-to-step-16200.mp4\n",
            "Saving video to /content/videos/kp9l1eh3/rl-video-step-18000-to-step-18200.mp4\n",
            "Saving video to /content/videos/kp9l1eh3/rl-video-step-20000-to-step-20200.mp4\n",
            "Saving video to /content/videos/kp9l1eh3/rl-video-step-22000-to-step-22200.mp4\n",
            "Saving video to /content/videos/kp9l1eh3/rl-video-step-24000-to-step-24200.mp4\n"
          ]
        },
        {
          "output_type": "display_data",
          "data": {
            "text/html": [
              "<br/>Waiting for W&B process to finish, PID 3250... <strong style=\"color:green\">(success).</strong>"
            ],
            "text/plain": [
              "<IPython.core.display.HTML object>"
            ]
          },
          "metadata": {}
        },
        {
          "output_type": "display_data",
          "data": {
            "application/vnd.jupyter.widget-view+json": {
              "model_id": "431440cf65af4611b3c598f32a428658",
              "version_minor": 0,
              "version_major": 2
            },
            "text/plain": [
              "VBox(children=(Label(value=' 0.55MB of 0.55MB uploaded (0.00MB deduped)\\r'), FloatProgress(value=1.0, max=1.0)…"
            ]
          },
          "metadata": {}
        },
        {
          "output_type": "display_data",
          "data": {
            "text/html": [
              "<style>\n",
              "    table.wandb td:nth-child(1) { padding: 0 10px; text-align: right }\n",
              "    .wandb-row { display: flex; flex-direction: row; flex-wrap: wrap; width: 100% }\n",
              "    .wandb-col { display: flex; flex-direction: column; flex-basis: 100%; flex: 1; padding: 10px; }\n",
              "    </style>\n",
              "<div class=\"wandb-row\"><div class=\"wandb-col\">\n",
              "<h3>Run history:</h3><br/><table class=\"wandb\"><tr><td>global_step</td><td>▁▁▁▂▂▂▂▂▂▃▃▃▃▃▄▄▄▄▄▄▄▅▅▅▅▅▆▆▆▆▆▇▇▇▇▇▇███</td></tr><tr><td>rollout/ep_len_mean</td><td>▃▁▄▆▅▆▆▆▆▅▅▄▅▅▆▆▅▅▅▅▅▅▅▆▅▅▆▆▅▄▅▆▇██▅▅▃▃▄</td></tr><tr><td>rollout/ep_rew_mean</td><td>▃▁▄▆▅▆▆▆▆▅▅▄▅▅▆▆▅▅▅▅▅▅▅▆▅▅▆▆▅▄▅▆▇██▅▅▃▃▄</td></tr><tr><td>rollout/exploration_rate</td><td>█▇▅▂▁▁▁▁▁▁▁▁▁▁▁▁▁▁▁▁▁▁▁▁▁▁▁▁▁▁▁▁▁▁▁▁▁▁▁▁</td></tr><tr><td>time/fps</td><td>▁▂▅▅▅▆█▆▇█▆▇▇▇▇██▇█▇▇██▇██▇██▇██▇███████</td></tr></table><br/></div><div class=\"wandb-col\">\n",
              "<h3>Run summary:</h3><br/><table class=\"wandb\"><tr><td>global_step</td><td>24906</td></tr><tr><td>rollout/ep_len_mean</td><td>20.58</td></tr><tr><td>rollout/ep_rew_mean</td><td>20.58</td></tr><tr><td>rollout/exploration_rate</td><td>0.05</td></tr><tr><td>time/fps</td><td>683.0</td></tr></table>\n",
              "</div></div>\n",
              "Synced 5 W&B file(s), 13 media file(s), 2 artifact file(s) and 3 other file(s)\n",
              "<br/>Synced <strong style=\"color:#cdcd00\">sunny-smoke-49</strong>: <a href=\"https://wandb.ai/luthier-man/test_rl/runs/kp9l1eh3\" target=\"_blank\">https://wandb.ai/luthier-man/test_rl/runs/kp9l1eh3</a><br/>\n",
              "Find logs at: <code>./wandb/run-20211215_220439-kp9l1eh3/logs</code><br/>\n"
            ],
            "text/plain": [
              "<IPython.core.display.HTML object>"
            ]
          },
          "metadata": {}
        }
      ]
    },
    {
      "cell_type": "code",
      "source": [
        "config_dqn = {\n",
        "    \"policy_type\": \"MlpPolicy\",\n",
        "    \"total_timesteps\": 25000,\n",
        "    \"env_name\": \"CartPole-v1\",\n",
        "    \"batch_size\":64,\n",
        "    \"policy_kwargs\": dict(activation_fn=torch.nn.ReLU, net_arch=[128, 128]), \n",
        "    \"learning_rate\":.0001,\n",
        "\n",
        "    \"seed\":None\n",
        "}\n",
        "run_dqn(config_dqn, True)"
      ],
      "metadata": {
        "colab": {
          "base_uri": "https://localhost:8080/",
          "height": 612,
          "referenced_widgets": [
            "d822f026e2014b0d977e41392acb54a6",
            "ef836c42345649e19253d6c1ddf3124d",
            "9b774eae27334fe6a83118f9068eb216",
            "638401ec19a944bb89058d9c59f81084",
            "cdb510516be34d019b3d09c4c416d66d",
            "7c3f30d54daf41d385b1fe2703acda6b",
            "c5d1f52ad5f244398c18a1147cbf07f1",
            "7e9defa001cc48a4b1fb7fe197ef134f"
          ]
        },
        "id": "QoQLZYioHi1d",
        "outputId": "f533dca4-8961-467f-8843-031b207abfc9"
      },
      "execution_count": 24,
      "outputs": [
        {
          "output_type": "display_data",
          "data": {
            "text/html": [
              "\n",
              "                    Syncing run <strong><a href=\"https://wandb.ai/luthier-man/test_rl/runs/321fqq34\" target=\"_blank\">confused-plasma-50</a></strong> to <a href=\"https://wandb.ai/luthier-man/test_rl\" target=\"_blank\">Weights & Biases</a> (<a href=\"https://docs.wandb.com/integrations/jupyter.html\" target=\"_blank\">docs</a>).<br/>\n",
              "\n",
              "                "
            ],
            "text/plain": [
              "<IPython.core.display.HTML object>"
            ]
          },
          "metadata": {}
        },
        {
          "output_type": "stream",
          "name": "stdout",
          "text": [
            "initialize\n"
          ]
        },
        {
          "output_type": "stream",
          "name": "stderr",
          "text": [
            "\u001b[34m\u001b[1mwandb\u001b[0m: \u001b[33mWARNING\u001b[0m When using several event log directories, please call wandb.tensorboard.patch(root_logdir=\"...\") before wandb.init\n"
          ]
        },
        {
          "output_type": "stream",
          "name": "stdout",
          "text": [
            "Saving video to /content/videos/321fqq34/rl-video-step-0-to-step-200.mp4\n",
            "Saving video to /content/videos/321fqq34/rl-video-step-2000-to-step-2200.mp4\n",
            "Saving video to /content/videos/321fqq34/rl-video-step-4000-to-step-4200.mp4\n",
            "Saving video to /content/videos/321fqq34/rl-video-step-6000-to-step-6200.mp4\n",
            "Saving video to /content/videos/321fqq34/rl-video-step-8000-to-step-8200.mp4\n",
            "Saving video to /content/videos/321fqq34/rl-video-step-10000-to-step-10200.mp4\n",
            "Saving video to /content/videos/321fqq34/rl-video-step-12000-to-step-12200.mp4\n",
            "Saving video to /content/videos/321fqq34/rl-video-step-14000-to-step-14200.mp4\n",
            "Saving video to /content/videos/321fqq34/rl-video-step-16000-to-step-16200.mp4\n",
            "Saving video to /content/videos/321fqq34/rl-video-step-18000-to-step-18200.mp4\n",
            "Saving video to /content/videos/321fqq34/rl-video-step-20000-to-step-20200.mp4\n",
            "Saving video to /content/videos/321fqq34/rl-video-step-22000-to-step-22200.mp4\n",
            "Saving video to /content/videos/321fqq34/rl-video-step-24000-to-step-24200.mp4\n"
          ]
        },
        {
          "output_type": "display_data",
          "data": {
            "text/html": [
              "<br/>Waiting for W&B process to finish, PID 3420... <strong style=\"color:green\">(success).</strong>"
            ],
            "text/plain": [
              "<IPython.core.display.HTML object>"
            ]
          },
          "metadata": {}
        },
        {
          "output_type": "display_data",
          "data": {
            "application/vnd.jupyter.widget-view+json": {
              "model_id": "d822f026e2014b0d977e41392acb54a6",
              "version_minor": 0,
              "version_major": 2
            },
            "text/plain": [
              "VBox(children=(Label(value=' 0.57MB of 0.57MB uploaded (0.00MB deduped)\\r'), FloatProgress(value=1.0, max=1.0)…"
            ]
          },
          "metadata": {}
        },
        {
          "output_type": "display_data",
          "data": {
            "text/html": [
              "<style>\n",
              "    table.wandb td:nth-child(1) { padding: 0 10px; text-align: right }\n",
              "    .wandb-row { display: flex; flex-direction: row; flex-wrap: wrap; width: 100% }\n",
              "    .wandb-col { display: flex; flex-direction: column; flex-basis: 100%; flex: 1; padding: 10px; }\n",
              "    </style>\n",
              "<div class=\"wandb-row\"><div class=\"wandb-col\">\n",
              "<h3>Run history:</h3><br/><table class=\"wandb\"><tr><td>global_step</td><td>▁▁▁▁▂▂▂▂▂▃▃▃▃▃▃▄▄▄▄▄▄▅▅▅▅▅▆▆▆▆▆▇▇▇▇▇▇███</td></tr><tr><td>rollout/ep_len_mean</td><td>▅▄▂▃▄▄▃▃▃▄▄▃▂▁▂▃▆▆▄▄▅▄▅▃▅▆▆█▆▇▅▄▂▁▂▃▃▄▅▄</td></tr><tr><td>rollout/ep_rew_mean</td><td>▅▄▂▃▄▄▃▃▃▄▄▃▂▁▂▃▆▆▄▄▅▄▅▃▅▆▆█▆▇▅▄▂▁▂▃▃▄▅▄</td></tr><tr><td>rollout/exploration_rate</td><td>█▇▅▃▁▁▁▁▁▁▁▁▁▁▁▁▁▁▁▁▁▁▁▁▁▁▁▁▁▁▁▁▁▁▁▁▁▁▁▁</td></tr><tr><td>time/fps</td><td>▁▂▅▇▆▆█▆▇█▇▇▇▇▇▇█▇██▇██▇██▇█████▇███████</td></tr></table><br/></div><div class=\"wandb-col\">\n",
              "<h3>Run summary:</h3><br/><table class=\"wandb\"><tr><td>global_step</td><td>24981</td></tr><tr><td>rollout/ep_len_mean</td><td>22.25</td></tr><tr><td>rollout/ep_rew_mean</td><td>22.25</td></tr><tr><td>rollout/exploration_rate</td><td>0.05</td></tr><tr><td>time/fps</td><td>683.0</td></tr></table>\n",
              "</div></div>\n",
              "Synced 5 W&B file(s), 13 media file(s), 2 artifact file(s) and 3 other file(s)\n",
              "<br/>Synced <strong style=\"color:#cdcd00\">confused-plasma-50</strong>: <a href=\"https://wandb.ai/luthier-man/test_rl/runs/321fqq34\" target=\"_blank\">https://wandb.ai/luthier-man/test_rl/runs/321fqq34</a><br/>\n",
              "Find logs at: <code>./wandb/run-20211215_220531-321fqq34/logs</code><br/>\n"
            ],
            "text/plain": [
              "<IPython.core.display.HTML object>"
            ]
          },
          "metadata": {}
        }
      ]
    },
    {
      "cell_type": "code",
      "source": [
        "config_dqn = {\n",
        "    \"policy_type\": \"MlpPolicy\",\n",
        "    \"total_timesteps\": 25000,\n",
        "    \"env_name\": \"CartPole-v1\",\n",
        "    \"batch_size\":128,\n",
        "    \"policy_kwargs\": dict(activation_fn=torch.nn.ReLU, net_arch=[128, 128]), \n",
        "\n",
        "    \"learning_rate\":.0001,\n",
        "    \"seed\":None\n",
        "}\n",
        "run_dqn(config_dqn, True)"
      ],
      "metadata": {
        "colab": {
          "base_uri": "https://localhost:8080/",
          "height": 612,
          "referenced_widgets": [
            "e75a1769237140b7893a1347a6ce2bd4",
            "0608d73218524a96985fae5bbb7daa3e",
            "8714a94ece4b4a92a12b326b7e47af3a",
            "d721d6687e4e4d3fa3d56bf1e16fd68d",
            "eb6353abdb3947e184249fa2d7be18d6",
            "2c52b13f15994a1ebae3e3095a712368",
            "87d13113efff49a3a74b4ab55919b314",
            "e22c77206f354b08a299527497662b4b"
          ]
        },
        "id": "zV30-pk2HkoT",
        "outputId": "8cba87ed-c547-4d6e-db41-a2df6bdb2709"
      },
      "execution_count": 25,
      "outputs": [
        {
          "output_type": "display_data",
          "data": {
            "text/html": [
              "\n",
              "                    Syncing run <strong><a href=\"https://wandb.ai/luthier-man/test_rl/runs/px7t5fm8\" target=\"_blank\">mild-resonance-51</a></strong> to <a href=\"https://wandb.ai/luthier-man/test_rl\" target=\"_blank\">Weights & Biases</a> (<a href=\"https://docs.wandb.com/integrations/jupyter.html\" target=\"_blank\">docs</a>).<br/>\n",
              "\n",
              "                "
            ],
            "text/plain": [
              "<IPython.core.display.HTML object>"
            ]
          },
          "metadata": {}
        },
        {
          "output_type": "stream",
          "name": "stdout",
          "text": [
            "initialize\n"
          ]
        },
        {
          "output_type": "stream",
          "name": "stderr",
          "text": [
            "\u001b[34m\u001b[1mwandb\u001b[0m: \u001b[33mWARNING\u001b[0m When using several event log directories, please call wandb.tensorboard.patch(root_logdir=\"...\") before wandb.init\n"
          ]
        },
        {
          "output_type": "stream",
          "name": "stdout",
          "text": [
            "Saving video to /content/videos/px7t5fm8/rl-video-step-0-to-step-200.mp4\n",
            "Saving video to /content/videos/px7t5fm8/rl-video-step-2000-to-step-2200.mp4\n",
            "Saving video to /content/videos/px7t5fm8/rl-video-step-4000-to-step-4200.mp4\n",
            "Saving video to /content/videos/px7t5fm8/rl-video-step-6000-to-step-6200.mp4\n",
            "Saving video to /content/videos/px7t5fm8/rl-video-step-8000-to-step-8200.mp4\n",
            "Saving video to /content/videos/px7t5fm8/rl-video-step-10000-to-step-10200.mp4\n",
            "Saving video to /content/videos/px7t5fm8/rl-video-step-12000-to-step-12200.mp4\n",
            "Saving video to /content/videos/px7t5fm8/rl-video-step-14000-to-step-14200.mp4\n",
            "Saving video to /content/videos/px7t5fm8/rl-video-step-16000-to-step-16200.mp4\n",
            "Saving video to /content/videos/px7t5fm8/rl-video-step-18000-to-step-18200.mp4\n",
            "Saving video to /content/videos/px7t5fm8/rl-video-step-20000-to-step-20200.mp4\n",
            "Saving video to /content/videos/px7t5fm8/rl-video-step-22000-to-step-22200.mp4\n",
            "Saving video to /content/videos/px7t5fm8/rl-video-step-24000-to-step-24200.mp4\n"
          ]
        },
        {
          "output_type": "display_data",
          "data": {
            "text/html": [
              "<br/>Waiting for W&B process to finish, PID 3590... <strong style=\"color:green\">(success).</strong>"
            ],
            "text/plain": [
              "<IPython.core.display.HTML object>"
            ]
          },
          "metadata": {}
        },
        {
          "output_type": "display_data",
          "data": {
            "application/vnd.jupyter.widget-view+json": {
              "model_id": "e75a1769237140b7893a1347a6ce2bd4",
              "version_minor": 0,
              "version_major": 2
            },
            "text/plain": [
              "VBox(children=(Label(value=' 0.58MB of 0.58MB uploaded (0.00MB deduped)\\r'), FloatProgress(value=1.0, max=1.0)…"
            ]
          },
          "metadata": {}
        },
        {
          "output_type": "display_data",
          "data": {
            "text/html": [
              "<style>\n",
              "    table.wandb td:nth-child(1) { padding: 0 10px; text-align: right }\n",
              "    .wandb-row { display: flex; flex-direction: row; flex-wrap: wrap; width: 100% }\n",
              "    .wandb-col { display: flex; flex-direction: column; flex-basis: 100%; flex: 1; padding: 10px; }\n",
              "    </style>\n",
              "<div class=\"wandb-row\"><div class=\"wandb-col\">\n",
              "<h3>Run history:</h3><br/><table class=\"wandb\"><tr><td>global_step</td><td>▁▁▁▂▂▂▂▂▂▂▃▃▃▃▃▄▄▄▄▄▅▅▅▅▅▅▆▆▆▆▆▆▇▇▇▇▇███</td></tr><tr><td>rollout/ep_len_mean</td><td>▂▄▅▄▅▄▂▂▁▂▁▁▂▄▅█▆▅▄▆▆▇▆▄▄▄▃▃▄▄▄▃▃▄▅▆▆▄▃▃</td></tr><tr><td>rollout/ep_rew_mean</td><td>▂▄▅▄▅▄▂▂▁▂▁▁▂▄▅█▆▅▄▆▆▇▆▄▄▄▃▃▄▄▄▃▃▄▅▆▆▄▃▃</td></tr><tr><td>rollout/exploration_rate</td><td>█▇▄▂▁▁▁▁▁▁▁▁▁▁▁▁▁▁▁▁▁▁▁▁▁▁▁▁▁▁▁▁▁▁▁▁▁▁▁▁</td></tr><tr><td>time/fps</td><td>▁▃▆▆▆▆█▆▇▇█▇▇▇▇██▇▇█▇██▇██▇▇█▇███▇██▇██▇</td></tr></table><br/></div><div class=\"wandb-col\">\n",
              "<h3>Run summary:</h3><br/><table class=\"wandb\"><tr><td>global_step</td><td>24919</td></tr><tr><td>rollout/ep_len_mean</td><td>21.12</td></tr><tr><td>rollout/ep_rew_mean</td><td>21.12</td></tr><tr><td>rollout/exploration_rate</td><td>0.05</td></tr><tr><td>time/fps</td><td>671.0</td></tr></table>\n",
              "</div></div>\n",
              "Synced 5 W&B file(s), 13 media file(s), 2 artifact file(s) and 3 other file(s)\n",
              "<br/>Synced <strong style=\"color:#cdcd00\">mild-resonance-51</strong>: <a href=\"https://wandb.ai/luthier-man/test_rl/runs/px7t5fm8\" target=\"_blank\">https://wandb.ai/luthier-man/test_rl/runs/px7t5fm8</a><br/>\n",
              "Find logs at: <code>./wandb/run-20211215_220623-px7t5fm8/logs</code><br/>\n"
            ],
            "text/plain": [
              "<IPython.core.display.HTML object>"
            ]
          },
          "metadata": {}
        }
      ]
    },
    {
      "cell_type": "code",
      "source": [
        "from stable_baselines3 import PPO\n",
        "def initialize_weights_ppo(agent, init=torch.nn.init.xavier_uniform_):\n",
        "  init(agent.policy.action_net.weight)\n",
        "  init(agent.policy.value_net.weight)\n",
        "\n",
        "  for i in agent.policy.mlp_extractor.policy_net:\n",
        "    if type(i)==torch.nn.modules.linear.Linear:\n",
        "      init(i.weight)\n",
        "\n",
        "  for i in agent.policy.mlp_extractor.value_net:\n",
        "    if type(i)==torch.nn.modules.linear.Linear:\n",
        "      init(i.weight)\n",
        "  return agent\n",
        "\n",
        "def run_ppo(config_ppo, initialize=False):\n",
        "  run = wandb.init(\n",
        "    project=\"test_rl\",\n",
        "    config=config_ppo,\n",
        "    sync_tensorboard=True,  # auto-upload sb3's tensorboard metrics\n",
        "    monitor_gym=True,  # auto-upload the videos of agents playing the game\n",
        "    save_code=True,  # optional\n",
        "  )\n",
        "  def make_env_ppo():\n",
        "    env = gym.make(config_ppo[\"env_name\"])\n",
        "    env = Monitor(env)  # record stats such as returns\n",
        "    return env\n",
        "  env_ppo = DummyVecEnv([make_env_ppo])\n",
        "  env_ppo = VecVideoRecorder(env_ppo, f\"videos/{run.id}\", record_video_trigger=lambda x: x % 2000 == 0, video_length=200)\n",
        "\n",
        "  agent_ppo = PPO(policy=config_ppo[\"policy_type\"],\n",
        "                    env=env_ppo,\n",
        "                    batch_size=config_ppo[\"batch_size\"],\n",
        "                    learning_rate=config_ppo[\"learning_rate\"],\n",
        "                    policy_kwargs=config_ppo[\"policy_kwargs\"],\n",
        "                    seed=config_ppo[\"seed\"],\n",
        "                    tensorboard_log=f\"runs/{run.id}\")\n",
        "  \n",
        "  agent_ppo.learn(\n",
        "      total_timesteps=config_ppo[\"total_timesteps\"],\n",
        "      callback=WandbCallback(\n",
        "          gradient_save_freq=100,\n",
        "          model_save_path=f\"models/{run.id}\",\n",
        "          verbose=2,\n",
        "      ),\n",
        "  )\n",
        "  run.finish()\n"
      ],
      "metadata": {
        "id": "olzESw1KCYxI"
      },
      "execution_count": 56,
      "outputs": []
    },
    {
      "cell_type": "code",
      "source": [
        "\n",
        "from stable_baselines3.common.monitor import Monitor\n",
        "config_ppo = {\n",
        "    \"policy_type\": \"MlpPolicy\",\n",
        "    \"total_timesteps\": 25000,\n",
        "    \"env_name\": \"CartPole-v1\",\n",
        "    \"batch_size\":32,\n",
        "    \"policy_kwargs\": dict(activation_fn=torch.nn.ReLU, net_arch=[dict(pi=[64, 64], vf=[64, 64])]),\n",
        "    \"learning_rate\":.0001,\n",
        "    \"seed\":None\n",
        "}\n",
        "\n",
        "run_ppo(config_ppo)\n"
      ],
      "metadata": {
        "colab": {
          "base_uri": "https://localhost:8080/",
          "height": 784,
          "referenced_widgets": [
            "14f9211a8d634dc5b9a5df7ce3c7008f",
            "e9b78d4430b94d8fa33500ed52c30cdc",
            "0b13d0f886f540688f4ae04a00e5ea74",
            "350a1bbf256143b9a2289ff14b6beafd",
            "8939f760a3234783ba71f586a1e8fae3",
            "e116b36841d649179fe42cd5ee2efc07",
            "b0fe87958d0946e7bd7f47b70bf29424",
            "a05fae0de18c4e67a8d9c1162a14b2a3"
          ]
        },
        "id": "KjyG0rqCI4DW",
        "outputId": "d95f3a20-b2c3-416b-8c91-3a1fe53f0a66"
      },
      "execution_count": 57,
      "outputs": [
        {
          "output_type": "display_data",
          "data": {
            "text/html": [
              "\n",
              "                    Syncing run <strong><a href=\"https://wandb.ai/luthier-man/test_rl/runs/20tsrc3e\" target=\"_blank\">toasty-river-52</a></strong> to <a href=\"https://wandb.ai/luthier-man/test_rl\" target=\"_blank\">Weights & Biases</a> (<a href=\"https://docs.wandb.com/integrations/jupyter.html\" target=\"_blank\">docs</a>).<br/>\n",
              "\n",
              "                "
            ],
            "text/plain": [
              "<IPython.core.display.HTML object>"
            ]
          },
          "metadata": {}
        },
        {
          "output_type": "stream",
          "name": "stderr",
          "text": [
            "\u001b[34m\u001b[1mwandb\u001b[0m: \u001b[33mWARNING\u001b[0m When using several event log directories, please call wandb.tensorboard.patch(root_logdir=\"...\") before wandb.init\n"
          ]
        },
        {
          "output_type": "stream",
          "name": "stdout",
          "text": [
            "Saving video to /content/videos/20tsrc3e/rl-video-step-0-to-step-200.mp4\n",
            "Saving video to /content/videos/20tsrc3e/rl-video-step-2000-to-step-2200.mp4\n",
            "Saving video to /content/videos/20tsrc3e/rl-video-step-4000-to-step-4200.mp4\n",
            "Saving video to /content/videos/20tsrc3e/rl-video-step-6000-to-step-6200.mp4\n",
            "Saving video to /content/videos/20tsrc3e/rl-video-step-8000-to-step-8200.mp4\n",
            "Saving video to /content/videos/20tsrc3e/rl-video-step-10000-to-step-10200.mp4\n",
            "Saving video to /content/videos/20tsrc3e/rl-video-step-12000-to-step-12200.mp4\n",
            "Saving video to /content/videos/20tsrc3e/rl-video-step-14000-to-step-14200.mp4\n",
            "Saving video to /content/videos/20tsrc3e/rl-video-step-16000-to-step-16200.mp4\n",
            "Saving video to /content/videos/20tsrc3e/rl-video-step-18000-to-step-18200.mp4\n",
            "Saving video to /content/videos/20tsrc3e/rl-video-step-20000-to-step-20200.mp4\n",
            "Saving video to /content/videos/20tsrc3e/rl-video-step-22000-to-step-22200.mp4\n",
            "Saving video to /content/videos/20tsrc3e/rl-video-step-24000-to-step-24200.mp4\n",
            "Saving video to /content/videos/20tsrc3e/rl-video-step-26000-to-step-26200.mp4\n"
          ]
        },
        {
          "output_type": "display_data",
          "data": {
            "text/html": [
              "<br/>Waiting for W&B process to finish, PID 4013... <strong style=\"color:green\">(success).</strong>"
            ],
            "text/plain": [
              "<IPython.core.display.HTML object>"
            ]
          },
          "metadata": {}
        },
        {
          "output_type": "display_data",
          "data": {
            "application/vnd.jupyter.widget-view+json": {
              "model_id": "14f9211a8d634dc5b9a5df7ce3c7008f",
              "version_minor": 0,
              "version_major": 2
            },
            "text/plain": [
              "VBox(children=(Label(value=' 0.56MB of 0.56MB uploaded (0.00MB deduped)\\r'), FloatProgress(value=1.0, max=1.0)…"
            ]
          },
          "metadata": {}
        },
        {
          "output_type": "display_data",
          "data": {
            "text/html": [
              "<style>\n",
              "    table.wandb td:nth-child(1) { padding: 0 10px; text-align: right }\n",
              "    .wandb-row { display: flex; flex-direction: row; flex-wrap: wrap; width: 100% }\n",
              "    .wandb-col { display: flex; flex-direction: column; flex-basis: 100%; flex: 1; padding: 10px; }\n",
              "    </style>\n",
              "<div class=\"wandb-row\"><div class=\"wandb-col\">\n",
              "<h3>Run history:</h3><br/><table class=\"wandb\"><tr><td>global_step</td><td>▁▂▂▃▃▄▅▅▆▆▇▇█</td></tr><tr><td>rollout/ep_len_mean</td><td>▁▁▁▂▂▃▃▄▅▆▆▇█</td></tr><tr><td>rollout/ep_rew_mean</td><td>▁▁▁▂▂▃▃▄▅▆▆▇█</td></tr><tr><td>time/fps</td><td>█▃▂▂▁▁▁▁▁▁▁▁▁</td></tr><tr><td>train/approx_kl</td><td>█▂▇▅▅▄▂▄▂▁▄▅</td></tr><tr><td>train/clip_fraction</td><td>█▁▇▇▆▅▆█▄▂▅█</td></tr><tr><td>train/clip_range</td><td>▁▁▁▁▁▁▁▁▁▁▁▁</td></tr><tr><td>train/entropy_loss</td><td>▁▁▂▃▅▅▆▆▇▇▇█</td></tr><tr><td>train/explained_variance</td><td>▂▁▁▃▃▃▄▅▆▇██</td></tr><tr><td>train/learning_rate</td><td>▁▁▁▁▁▁▁▁▁▁▁▁</td></tr><tr><td>train/loss</td><td>▄▂▄▃▅▅▇█▃▁▁▁</td></tr><tr><td>train/policy_gradient_loss</td><td>▂█▁▃▂▄▃▄▆▇█▆</td></tr><tr><td>train/value_loss</td><td>▇▄▄▆▇█▆▅▃▂▁▁</td></tr></table><br/></div><div class=\"wandb-col\">\n",
              "<h3>Run summary:</h3><br/><table class=\"wandb\"><tr><td>global_step</td><td>26624</td></tr><tr><td>rollout/ep_len_mean</td><td>166.44</td></tr><tr><td>rollout/ep_rew_mean</td><td>166.44</td></tr><tr><td>time/fps</td><td>171.0</td></tr><tr><td>train/approx_kl</td><td>0.00558</td></tr><tr><td>train/clip_fraction</td><td>0.02959</td></tr><tr><td>train/clip_range</td><td>0.2</td></tr><tr><td>train/entropy_loss</td><td>-0.55486</td></tr><tr><td>train/explained_variance</td><td>0.88721</td></tr><tr><td>train/learning_rate</td><td>0.0001</td></tr><tr><td>train/loss</td><td>7.82115</td></tr><tr><td>train/policy_gradient_loss</td><td>-0.00575</td></tr><tr><td>train/value_loss</td><td>24.73473</td></tr></table>\n",
              "</div></div>\n",
              "Synced 5 W&B file(s), 14 media file(s), 2 artifact file(s) and 3 other file(s)\n",
              "<br/>Synced <strong style=\"color:#cdcd00\">toasty-river-52</strong>: <a href=\"https://wandb.ai/luthier-man/test_rl/runs/20tsrc3e\" target=\"_blank\">https://wandb.ai/luthier-man/test_rl/runs/20tsrc3e</a><br/>\n",
              "Find logs at: <code>./wandb/run-20211215_222828-20tsrc3e/logs</code><br/>\n"
            ],
            "text/plain": [
              "<IPython.core.display.HTML object>"
            ]
          },
          "metadata": {}
        }
      ]
    },
    {
      "cell_type": "code",
      "source": [
        "\n",
        "from stable_baselines3.common.monitor import Monitor\n",
        "config_ppo = {\n",
        "    \"policy_type\": \"MlpPolicy\",\n",
        "    \"total_timesteps\": 25000,\n",
        "    \"env_name\": \"CartPole-v1\",\n",
        "    \"batch_size\":32,\n",
        "    \"policy_kwargs\": dict(activation_fn=torch.nn.ReLU, net_arch=[dict(pi=[64, 64], vf=[64, 64])]),\n",
        "    \"learning_rate\":.0001,\n",
        "    \"seed\":None\n",
        "}\n",
        "\n",
        "run_ppo(config_ppo,True)"
      ],
      "metadata": {
        "colab": {
          "base_uri": "https://localhost:8080/",
          "height": 784,
          "referenced_widgets": [
            "221bbd16a72a46f1a0317f27b1cf5bba",
            "2fe7b191e9f84a5e8dead05944e5a3ab",
            "01bdb1f93952410b8437646c200d618e",
            "f19bbd82ca6547499c10fa157d9a98f2",
            "dbdc17569051430b94adaccc0a49c718",
            "67d2ffdc2e414fbc9c1cff11b139f47d",
            "cd92e55b1ad041029f2bda0fb689c676",
            "ee8bb00d8715424c8bf10d6f9399d4b1"
          ]
        },
        "id": "aV0kDHQ9ObGo",
        "outputId": "6b7cff47-21b0-4aa0-b05e-b9bea2fe9019"
      },
      "execution_count": 58,
      "outputs": [
        {
          "output_type": "display_data",
          "data": {
            "text/html": [
              "\n",
              "                    Syncing run <strong><a href=\"https://wandb.ai/luthier-man/test_rl/runs/24dvxvlr\" target=\"_blank\">rare-serenity-53</a></strong> to <a href=\"https://wandb.ai/luthier-man/test_rl\" target=\"_blank\">Weights & Biases</a> (<a href=\"https://docs.wandb.com/integrations/jupyter.html\" target=\"_blank\">docs</a>).<br/>\n",
              "\n",
              "                "
            ],
            "text/plain": [
              "<IPython.core.display.HTML object>"
            ]
          },
          "metadata": {}
        },
        {
          "output_type": "stream",
          "name": "stderr",
          "text": [
            "\u001b[34m\u001b[1mwandb\u001b[0m: \u001b[33mWARNING\u001b[0m When using several event log directories, please call wandb.tensorboard.patch(root_logdir=\"...\") before wandb.init\n"
          ]
        },
        {
          "output_type": "stream",
          "name": "stdout",
          "text": [
            "Saving video to /content/videos/24dvxvlr/rl-video-step-0-to-step-200.mp4\n",
            "Saving video to /content/videos/24dvxvlr/rl-video-step-2000-to-step-2200.mp4\n",
            "Saving video to /content/videos/24dvxvlr/rl-video-step-4000-to-step-4200.mp4\n",
            "Saving video to /content/videos/24dvxvlr/rl-video-step-6000-to-step-6200.mp4\n",
            "Saving video to /content/videos/24dvxvlr/rl-video-step-8000-to-step-8200.mp4\n",
            "Saving video to /content/videos/24dvxvlr/rl-video-step-10000-to-step-10200.mp4\n",
            "Saving video to /content/videos/24dvxvlr/rl-video-step-12000-to-step-12200.mp4\n",
            "Saving video to /content/videos/24dvxvlr/rl-video-step-14000-to-step-14200.mp4\n",
            "Saving video to /content/videos/24dvxvlr/rl-video-step-16000-to-step-16200.mp4\n",
            "Saving video to /content/videos/24dvxvlr/rl-video-step-18000-to-step-18200.mp4\n",
            "Saving video to /content/videos/24dvxvlr/rl-video-step-20000-to-step-20200.mp4\n",
            "Saving video to /content/videos/24dvxvlr/rl-video-step-22000-to-step-22200.mp4\n",
            "Saving video to /content/videos/24dvxvlr/rl-video-step-24000-to-step-24200.mp4\n",
            "Saving video to /content/videos/24dvxvlr/rl-video-step-26000-to-step-26200.mp4\n"
          ]
        },
        {
          "output_type": "display_data",
          "data": {
            "text/html": [
              "<br/>Waiting for W&B process to finish, PID 4233... <strong style=\"color:green\">(success).</strong>"
            ],
            "text/plain": [
              "<IPython.core.display.HTML object>"
            ]
          },
          "metadata": {}
        },
        {
          "output_type": "display_data",
          "data": {
            "application/vnd.jupyter.widget-view+json": {
              "model_id": "221bbd16a72a46f1a0317f27b1cf5bba",
              "version_minor": 0,
              "version_major": 2
            },
            "text/plain": [
              "VBox(children=(Label(value=' 0.58MB of 0.58MB uploaded (0.00MB deduped)\\r'), FloatProgress(value=1.0, max=1.0)…"
            ]
          },
          "metadata": {}
        },
        {
          "output_type": "display_data",
          "data": {
            "text/html": [
              "<style>\n",
              "    table.wandb td:nth-child(1) { padding: 0 10px; text-align: right }\n",
              "    .wandb-row { display: flex; flex-direction: row; flex-wrap: wrap; width: 100% }\n",
              "    .wandb-col { display: flex; flex-direction: column; flex-basis: 100%; flex: 1; padding: 10px; }\n",
              "    </style>\n",
              "<div class=\"wandb-row\"><div class=\"wandb-col\">\n",
              "<h3>Run history:</h3><br/><table class=\"wandb\"><tr><td>global_step</td><td>▁▂▂▃▃▄▅▅▆▆▇▇█</td></tr><tr><td>rollout/ep_len_mean</td><td>▁▁▁▂▂▃▃▄▅▆▆▇█</td></tr><tr><td>rollout/ep_rew_mean</td><td>▁▁▁▂▂▃▃▄▅▆▆▇█</td></tr><tr><td>time/fps</td><td>█▃▂▁▁▁▁▁▁▁▁▁▁</td></tr><tr><td>train/approx_kl</td><td>▂█▆▇▆▄▄▁▄▁▅▁</td></tr><tr><td>train/clip_fraction</td><td>▁▅▆▇▇▆▆▂█▃▇▅</td></tr><tr><td>train/clip_range</td><td>▁▁▁▁▁▁▁▁▁▁▁▁</td></tr><tr><td>train/entropy_loss</td><td>▁▁▂▃▄▅▆▆▆▇██</td></tr><tr><td>train/explained_variance</td><td>▃▁▂▃▃▃▃▄▅▅▇█</td></tr><tr><td>train/learning_rate</td><td>▁▁▁▁▁▁▁▁▁▁▁▁</td></tr><tr><td>train/loss</td><td>▄▂▃▄▄█▆▁▁▃▇▁</td></tr><tr><td>train/policy_gradient_loss</td><td>█▃▄▂▁▂▂█▂▆▇▇</td></tr><tr><td>train/value_loss</td><td>▅▃▃▄▆██▄▅▆▂▁</td></tr></table><br/></div><div class=\"wandb-col\">\n",
              "<h3>Run summary:</h3><br/><table class=\"wandb\"><tr><td>global_step</td><td>26624</td></tr><tr><td>rollout/ep_len_mean</td><td>165.83</td></tr><tr><td>rollout/ep_rew_mean</td><td>165.83</td></tr><tr><td>time/fps</td><td>178.0</td></tr><tr><td>train/approx_kl</td><td>0.00231</td></tr><tr><td>train/clip_fraction</td><td>0.01523</td></tr><tr><td>train/clip_range</td><td>0.2</td></tr><tr><td>train/entropy_loss</td><td>-0.54684</td></tr><tr><td>train/explained_variance</td><td>0.79849</td></tr><tr><td>train/learning_rate</td><td>0.0001</td></tr><tr><td>train/loss</td><td>8.72185</td></tr><tr><td>train/policy_gradient_loss</td><td>-0.0046</td></tr><tr><td>train/value_loss</td><td>39.07554</td></tr></table>\n",
              "</div></div>\n",
              "Synced 5 W&B file(s), 14 media file(s), 2 artifact file(s) and 3 other file(s)\n",
              "<br/>Synced <strong style=\"color:#cdcd00\">rare-serenity-53</strong>: <a href=\"https://wandb.ai/luthier-man/test_rl/runs/24dvxvlr\" target=\"_blank\">https://wandb.ai/luthier-man/test_rl/runs/24dvxvlr</a><br/>\n",
              "Find logs at: <code>./wandb/run-20211215_223231-24dvxvlr/logs</code><br/>\n"
            ],
            "text/plain": [
              "<IPython.core.display.HTML object>"
            ]
          },
          "metadata": {}
        }
      ]
    },
    {
      "cell_type": "code",
      "source": [
        "config_ppo = {\n",
        "    \"policy_type\": \"MlpPolicy\",\n",
        "    \"total_timesteps\": 25000,\n",
        "    \"env_name\": \"CartPole-v1\",\n",
        "    \"batch_size\":64,\n",
        "    \"policy_kwargs\": dict(activation_fn=torch.nn.ReLU, net_arch=[dict(pi=[64, 64], vf=[64, 64])]),\n",
        "    \"learning_rate\":.0001,\n",
        "    \"seed\":None\n",
        "}\n",
        "\n",
        "run_ppo(config_ppo)"
      ],
      "metadata": {
        "colab": {
          "base_uri": "https://localhost:8080/",
          "height": 784,
          "referenced_widgets": [
            "85b7d88e7a41482b96736bb5d98768d9",
            "e5f27a30ae55447c8906efbb10a41515",
            "74908beca5e242f097dcc2273948370a",
            "9cb8f150d2cf4722b2cd8e469b6c6c96",
            "aca9e3117b4343dd9248e0e412f9a6a5",
            "07febb9b50b84b299f89656d0234a919",
            "0114c16f5c074aa5b197c41f339c8a08",
            "9f1bb9150a0144f09461aad71cffd2e0"
          ]
        },
        "id": "TegjwoLYKa8i",
        "outputId": "84c1279b-b0ed-43fc-c0b6-47e3437dd9d5"
      },
      "execution_count": 59,
      "outputs": [
        {
          "output_type": "display_data",
          "data": {
            "text/html": [
              "\n",
              "                    Syncing run <strong><a href=\"https://wandb.ai/luthier-man/test_rl/runs/jw3uwiik\" target=\"_blank\">happy-snowflake-54</a></strong> to <a href=\"https://wandb.ai/luthier-man/test_rl\" target=\"_blank\">Weights & Biases</a> (<a href=\"https://docs.wandb.com/integrations/jupyter.html\" target=\"_blank\">docs</a>).<br/>\n",
              "\n",
              "                "
            ],
            "text/plain": [
              "<IPython.core.display.HTML object>"
            ]
          },
          "metadata": {}
        },
        {
          "output_type": "stream",
          "name": "stderr",
          "text": [
            "\u001b[34m\u001b[1mwandb\u001b[0m: \u001b[33mWARNING\u001b[0m When using several event log directories, please call wandb.tensorboard.patch(root_logdir=\"...\") before wandb.init\n"
          ]
        },
        {
          "output_type": "stream",
          "name": "stdout",
          "text": [
            "Saving video to /content/videos/jw3uwiik/rl-video-step-0-to-step-200.mp4\n",
            "Saving video to /content/videos/jw3uwiik/rl-video-step-2000-to-step-2200.mp4\n",
            "Saving video to /content/videos/jw3uwiik/rl-video-step-4000-to-step-4200.mp4\n",
            "Saving video to /content/videos/jw3uwiik/rl-video-step-6000-to-step-6200.mp4\n",
            "Saving video to /content/videos/jw3uwiik/rl-video-step-8000-to-step-8200.mp4\n",
            "Saving video to /content/videos/jw3uwiik/rl-video-step-10000-to-step-10200.mp4\n",
            "Saving video to /content/videos/jw3uwiik/rl-video-step-12000-to-step-12200.mp4\n",
            "Saving video to /content/videos/jw3uwiik/rl-video-step-14000-to-step-14200.mp4\n",
            "Saving video to /content/videos/jw3uwiik/rl-video-step-16000-to-step-16200.mp4\n",
            "Saving video to /content/videos/jw3uwiik/rl-video-step-18000-to-step-18200.mp4\n",
            "Saving video to /content/videos/jw3uwiik/rl-video-step-20000-to-step-20200.mp4\n",
            "Saving video to /content/videos/jw3uwiik/rl-video-step-22000-to-step-22200.mp4\n",
            "Saving video to /content/videos/jw3uwiik/rl-video-step-24000-to-step-24200.mp4\n",
            "Saving video to /content/videos/jw3uwiik/rl-video-step-26000-to-step-26200.mp4\n"
          ]
        },
        {
          "output_type": "display_data",
          "data": {
            "text/html": [
              "<br/>Waiting for W&B process to finish, PID 4444... <strong style=\"color:green\">(success).</strong>"
            ],
            "text/plain": [
              "<IPython.core.display.HTML object>"
            ]
          },
          "metadata": {}
        },
        {
          "output_type": "display_data",
          "data": {
            "application/vnd.jupyter.widget-view+json": {
              "model_id": "85b7d88e7a41482b96736bb5d98768d9",
              "version_minor": 0,
              "version_major": 2
            },
            "text/plain": [
              "VBox(children=(Label(value=' 0.59MB of 0.59MB uploaded (0.00MB deduped)\\r'), FloatProgress(value=1.0, max=1.0)…"
            ]
          },
          "metadata": {}
        },
        {
          "output_type": "display_data",
          "data": {
            "text/html": [
              "<style>\n",
              "    table.wandb td:nth-child(1) { padding: 0 10px; text-align: right }\n",
              "    .wandb-row { display: flex; flex-direction: row; flex-wrap: wrap; width: 100% }\n",
              "    .wandb-col { display: flex; flex-direction: column; flex-basis: 100%; flex: 1; padding: 10px; }\n",
              "    </style>\n",
              "<div class=\"wandb-row\"><div class=\"wandb-col\">\n",
              "<h3>Run history:</h3><br/><table class=\"wandb\"><tr><td>global_step</td><td>▁▂▂▃▃▄▅▅▆▆▇▇█</td></tr><tr><td>rollout/ep_len_mean</td><td>▁▁▁▂▂▃▃▄▅▆▇██</td></tr><tr><td>rollout/ep_rew_mean</td><td>▁▁▁▂▂▃▃▄▅▆▇██</td></tr><tr><td>time/fps</td><td>█▃▂▁▁▁▁▁▁▁▁▁▁</td></tr><tr><td>train/approx_kl</td><td>▆█▇▁▅▇▃▇▅▃▅▂</td></tr><tr><td>train/clip_fraction</td><td>▃▅█▁▄▅▂▄▆▆▄▂</td></tr><tr><td>train/clip_range</td><td>▁▁▁▁▁▁▁▁▁▁▁▁</td></tr><tr><td>train/entropy_loss</td><td>▁▂▃▃▅▅▅▅▆▇██</td></tr><tr><td>train/explained_variance</td><td>▃▂▁▂▁▂▂▂▄▅█▆</td></tr><tr><td>train/learning_rate</td><td>▁▁▁▁▁▁▁▁▁▁▁▁</td></tr><tr><td>train/loss</td><td>▅▄▄▃▄▇▇▃█▃▁█</td></tr><tr><td>train/policy_gradient_loss</td><td>▄▃▁█▄▃▆▅▄▃▆▇</td></tr><tr><td>train/value_loss</td><td>▄▅▄▄▄▄▆▄█▆▁▇</td></tr></table><br/></div><div class=\"wandb-col\">\n",
              "<h3>Run summary:</h3><br/><table class=\"wandb\"><tr><td>global_step</td><td>26624</td></tr><tr><td>rollout/ep_len_mean</td><td>132.17</td></tr><tr><td>rollout/ep_rew_mean</td><td>132.17</td></tr><tr><td>time/fps</td><td>223.0</td></tr><tr><td>train/approx_kl</td><td>0.00157</td></tr><tr><td>train/clip_fraction</td><td>0.00386</td></tr><tr><td>train/clip_range</td><td>0.2</td></tr><tr><td>train/entropy_loss</td><td>-0.57562</td></tr><tr><td>train/explained_variance</td><td>0.44464</td></tr><tr><td>train/learning_rate</td><td>0.0001</td></tr><tr><td>train/loss</td><td>51.60445</td></tr><tr><td>train/policy_gradient_loss</td><td>-0.00338</td></tr><tr><td>train/value_loss</td><td>109.26629</td></tr></table>\n",
              "</div></div>\n",
              "Synced 5 W&B file(s), 14 media file(s), 2 artifact file(s) and 3 other file(s)\n",
              "<br/>Synced <strong style=\"color:#cdcd00\">happy-snowflake-54</strong>: <a href=\"https://wandb.ai/luthier-man/test_rl/runs/jw3uwiik\" target=\"_blank\">https://wandb.ai/luthier-man/test_rl/runs/jw3uwiik</a><br/>\n",
              "Find logs at: <code>./wandb/run-20211215_223554-jw3uwiik/logs</code><br/>\n"
            ],
            "text/plain": [
              "<IPython.core.display.HTML object>"
            ]
          },
          "metadata": {}
        }
      ]
    },
    {
      "cell_type": "code",
      "source": [
        "config_ppo = {\n",
        "    \"policy_type\": \"MlpPolicy\",\n",
        "    \"total_timesteps\": 25000,\n",
        "    \"env_name\": \"CartPole-v1\",\n",
        "    \"batch_size\":128,\n",
        "    \"policy_kwargs\": dict(activation_fn=torch.nn.ReLU, net_arch=[dict(pi=[64, 64], vf=[64, 64])]),\n",
        "    \"learning_rate\":.0001,\n",
        "    \"seed\":None\n",
        "}\n",
        "\n",
        "run_ppo(config_ppo)"
      ],
      "metadata": {
        "colab": {
          "base_uri": "https://localhost:8080/",
          "height": 784,
          "referenced_widgets": [
            "f4c5eac040df49ed9fb98af37dcd3699",
            "fc2830a4d6b2419ab665b022870fcc2e",
            "a42c09b4eb4c4e2694539ddca741a08c",
            "b71bd9aa3d7d499cbe7e3f0ef4a4fab6",
            "9ca4dd98676f4106817ef81f9908130e",
            "98fe4618699d4336959b5c8c606d12f0",
            "6085187dd2934c1f89f8f3bda9c8f506",
            "df671e6bef2a4cc28f59f888024ccd14"
          ]
        },
        "id": "uwatXsLXN7r5",
        "outputId": "7c378794-5101-4d1a-c134-743836ebeb5d"
      },
      "execution_count": 60,
      "outputs": [
        {
          "output_type": "display_data",
          "data": {
            "text/html": [
              "\n",
              "                    Syncing run <strong><a href=\"https://wandb.ai/luthier-man/test_rl/runs/2viobgfv\" target=\"_blank\">ethereal-planet-55</a></strong> to <a href=\"https://wandb.ai/luthier-man/test_rl\" target=\"_blank\">Weights & Biases</a> (<a href=\"https://docs.wandb.com/integrations/jupyter.html\" target=\"_blank\">docs</a>).<br/>\n",
              "\n",
              "                "
            ],
            "text/plain": [
              "<IPython.core.display.HTML object>"
            ]
          },
          "metadata": {}
        },
        {
          "output_type": "stream",
          "name": "stderr",
          "text": [
            "\u001b[34m\u001b[1mwandb\u001b[0m: \u001b[33mWARNING\u001b[0m When using several event log directories, please call wandb.tensorboard.patch(root_logdir=\"...\") before wandb.init\n"
          ]
        },
        {
          "output_type": "stream",
          "name": "stdout",
          "text": [
            "Saving video to /content/videos/2viobgfv/rl-video-step-0-to-step-200.mp4\n",
            "Saving video to /content/videos/2viobgfv/rl-video-step-2000-to-step-2200.mp4\n",
            "Saving video to /content/videos/2viobgfv/rl-video-step-4000-to-step-4200.mp4\n",
            "Saving video to /content/videos/2viobgfv/rl-video-step-6000-to-step-6200.mp4\n",
            "Saving video to /content/videos/2viobgfv/rl-video-step-8000-to-step-8200.mp4\n",
            "Saving video to /content/videos/2viobgfv/rl-video-step-10000-to-step-10200.mp4\n",
            "Saving video to /content/videos/2viobgfv/rl-video-step-12000-to-step-12200.mp4\n",
            "Saving video to /content/videos/2viobgfv/rl-video-step-14000-to-step-14200.mp4\n",
            "Saving video to /content/videos/2viobgfv/rl-video-step-16000-to-step-16200.mp4\n",
            "Saving video to /content/videos/2viobgfv/rl-video-step-18000-to-step-18200.mp4\n",
            "Saving video to /content/videos/2viobgfv/rl-video-step-20000-to-step-20200.mp4\n",
            "Saving video to /content/videos/2viobgfv/rl-video-step-22000-to-step-22200.mp4\n",
            "Saving video to /content/videos/2viobgfv/rl-video-step-24000-to-step-24200.mp4\n",
            "Saving video to /content/videos/2viobgfv/rl-video-step-26000-to-step-26200.mp4\n"
          ]
        },
        {
          "output_type": "display_data",
          "data": {
            "text/html": [
              "<br/>Waiting for W&B process to finish, PID 4642... <strong style=\"color:green\">(success).</strong>"
            ],
            "text/plain": [
              "<IPython.core.display.HTML object>"
            ]
          },
          "metadata": {}
        },
        {
          "output_type": "display_data",
          "data": {
            "application/vnd.jupyter.widget-view+json": {
              "model_id": "f4c5eac040df49ed9fb98af37dcd3699",
              "version_minor": 0,
              "version_major": 2
            },
            "text/plain": [
              "VBox(children=(Label(value=' 0.61MB of 0.61MB uploaded (0.00MB deduped)\\r'), FloatProgress(value=1.0, max=1.0)…"
            ]
          },
          "metadata": {}
        },
        {
          "output_type": "display_data",
          "data": {
            "text/html": [
              "<style>\n",
              "    table.wandb td:nth-child(1) { padding: 0 10px; text-align: right }\n",
              "    .wandb-row { display: flex; flex-direction: row; flex-wrap: wrap; width: 100% }\n",
              "    .wandb-col { display: flex; flex-direction: column; flex-basis: 100%; flex: 1; padding: 10px; }\n",
              "    </style>\n",
              "<div class=\"wandb-row\"><div class=\"wandb-col\">\n",
              "<h3>Run history:</h3><br/><table class=\"wandb\"><tr><td>global_step</td><td>▁▂▂▃▃▄▅▅▆▆▇▇█</td></tr><tr><td>rollout/ep_len_mean</td><td>▁▂▂▂▂▃▃▃▄▅▆▇█</td></tr><tr><td>rollout/ep_rew_mean</td><td>▁▂▂▂▂▃▃▃▄▅▆▇█</td></tr><tr><td>time/fps</td><td>█▃▂▁▁▁▂▂▂▂▂▃▃</td></tr><tr><td>train/approx_kl</td><td>▂▁▁▃▂▂▁▃▃▂▂█</td></tr><tr><td>train/clip_fraction</td><td>▁▁▁▁▁▁▁▁▁▁▁█</td></tr><tr><td>train/clip_range</td><td>▁▁▁▁▁▁▁▁▁▁▁▁</td></tr><tr><td>train/entropy_loss</td><td>▁▁▁▂▃▃▄▅▅▆▆█</td></tr><tr><td>train/explained_variance</td><td>█▇▅▄▂▁▃▄▆▅▃▇</td></tr><tr><td>train/learning_rate</td><td>▁▁▁▁▁▁▁▁▁▁▁▁</td></tr><tr><td>train/loss</td><td>▂▄▃▁▃▂▁▁▂▂█▆</td></tr><tr><td>train/policy_gradient_loss</td><td>▆██▅█▇█▆▆▆▇▁</td></tr><tr><td>train/value_loss</td><td>▁▄▂▂▂▁▂▁▃▄█▆</td></tr></table><br/></div><div class=\"wandb-col\">\n",
              "<h3>Run summary:</h3><br/><table class=\"wandb\"><tr><td>global_step</td><td>26624</td></tr><tr><td>rollout/ep_len_mean</td><td>72.37</td></tr><tr><td>rollout/ep_rew_mean</td><td>72.37</td></tr><tr><td>time/fps</td><td>260.0</td></tr><tr><td>train/approx_kl</td><td>0.00601</td></tr><tr><td>train/clip_fraction</td><td>0.01958</td></tr><tr><td>train/clip_range</td><td>0.2</td></tr><tr><td>train/entropy_loss</td><td>-0.613</td></tr><tr><td>train/explained_variance</td><td>-0.07284</td></tr><tr><td>train/learning_rate</td><td>0.0001</td></tr><tr><td>train/loss</td><td>61.62291</td></tr><tr><td>train/policy_gradient_loss</td><td>-0.00836</td></tr><tr><td>train/value_loss</td><td>114.76201</td></tr></table>\n",
              "</div></div>\n",
              "Synced 5 W&B file(s), 14 media file(s), 2 artifact file(s) and 3 other file(s)\n",
              "<br/>Synced <strong style=\"color:#cdcd00\">ethereal-planet-55</strong>: <a href=\"https://wandb.ai/luthier-man/test_rl/runs/2viobgfv\" target=\"_blank\">https://wandb.ai/luthier-man/test_rl/runs/2viobgfv</a><br/>\n",
              "Find logs at: <code>./wandb/run-20211215_223811-2viobgfv/logs</code><br/>\n"
            ],
            "text/plain": [
              "<IPython.core.display.HTML object>"
            ]
          },
          "metadata": {}
        }
      ]
    },
    {
      "cell_type": "code",
      "source": [
        "from stable_baselines3 import A2C\n",
        "\n",
        "\n",
        "def run_a2c(config_a2c):\n",
        "  run = wandb.init(\n",
        "    project=\"test_rl\",\n",
        "    config=config_a2c,\n",
        "    sync_tensorboard=True,  # auto-upload sb3's tensorboard metrics\n",
        "    monitor_gym=True,  # auto-upload the videos of agents playing the game\n",
        "    save_code=True,  # optional\n",
        "  )\n",
        "  def make_env_a2c():\n",
        "    env = gym.make(config_a2c[\"env_name\"])\n",
        "    env = Monitor(env)  # record stats such as returns\n",
        "    return env\n",
        "  env_a2c = DummyVecEnv([make_env_a2c]*config_a2c[\"n_env\"])\n",
        "  env_a2c = VecVideoRecorder(env_a2c, f\"videos/{run.id}\", record_video_trigger=lambda x: x % 2000 == 0, video_length=200)\n",
        "  agent_a2c = A2C(policy=config_a2c[\"policy_type\"],\n",
        "                      env=env_a2c,\n",
        "                      policy_kwargs=config_a2c[\"policy_kwargs\"],\n",
        "                      seed=config_a2c[\"seed\"],\n",
        "                      tensorboard_log=f\"runs/{run.id}\")\n",
        "  \n",
        "  agent_a2c.learn(\n",
        "      total_timesteps=config_a2c[\"total_timesteps\"],\n",
        "      callback=WandbCallback(\n",
        "          gradient_save_freq=100,\n",
        "          model_save_path=f\"models/{run.id}\",\n",
        "          verbose=2,\n",
        "      ),\n",
        "  )\n",
        "  run.finish()\n"
      ],
      "metadata": {
        "id": "1tPD9tclf3_O"
      },
      "execution_count": 11,
      "outputs": []
    },
    {
      "cell_type": "code",
      "source": [
        "from stable_baselines3 import A2C\n",
        "from stable_baselines3.common.env_util import make_vec_env\n",
        "\n",
        "\n",
        "config_a2c = {\n",
        "    \"policy_type\": \"MlpPolicy\",\n",
        "    \"total_timesteps\": 25000,\n",
        "    \"env_name\": \"CartPole-v1\",\n",
        "    \"n_env\": 1,\n",
        "    \"policy_kwargs\": dict(activation_fn=torch.nn.ReLU, net_arch=[dict(pi=[64, 64], vf=[64, 64])]),\n",
        "    \"seed\":None\n",
        "}\n",
        "run_a2c(config_a2c)"
      ],
      "metadata": {
        "colab": {
          "base_uri": "https://localhost:8080/",
          "height": 1000,
          "referenced_widgets": [
            "4ec8392ff6b34a65bcfb9cc4570dc12e",
            "6d92ce3f0803463a8a1cf3f4823f83a0",
            "11bffca55bc4484e8f63c50557c986d7",
            "6c518070ee62494fa771025a311510fe",
            "531182ed5e174159bd17335355faceb1",
            "66a87212baf14a5eab7192b528239783",
            "a475b4ae221b4c428bbf9785054ac6db",
            "a6b39a852dc84ad68500c6cf4a4ccf63",
            "fe602ad5a49545dfae92c23ee644bdc1",
            "706dda877f7945e08f42e070f321b226",
            "92e6d9edd7de46018bf915603664f05d",
            "eec35549316448ce927d6fe932363104",
            "87960dff7b5b4e8a85a832518cdede56",
            "2c12841d4cc84b27a5aa823a6f453a79",
            "54e53046fd7f4ad6ba1717a99b13e9a2",
            "7825f35802ab4b3890104511edc48100"
          ]
        },
        "id": "dB5r9iqUJy8E",
        "outputId": "90929990-36d7-44cb-f7d5-fa26c5871220"
      },
      "execution_count": 12,
      "outputs": [
        {
          "output_type": "display_data",
          "data": {
            "text/html": [
              "Finishing last run (ID:28wv00py) before initializing another..."
            ],
            "text/plain": [
              "<IPython.core.display.HTML object>"
            ]
          },
          "metadata": {}
        },
        {
          "output_type": "display_data",
          "data": {
            "text/html": [
              "<br/>Waiting for W&B process to finish, PID 6553... <strong style=\"color:green\">(success).</strong>"
            ],
            "text/plain": [
              "<IPython.core.display.HTML object>"
            ]
          },
          "metadata": {}
        },
        {
          "output_type": "display_data",
          "data": {
            "application/vnd.jupyter.widget-view+json": {
              "model_id": "4ec8392ff6b34a65bcfb9cc4570dc12e",
              "version_minor": 0,
              "version_major": 2
            },
            "text/plain": [
              "VBox(children=(Label(value=' 0.46MB of 0.46MB uploaded (0.00MB deduped)\\r'), FloatProgress(value=1.0, max=1.0)…"
            ]
          },
          "metadata": {}
        },
        {
          "output_type": "display_data",
          "data": {
            "text/html": [
              "<style>\n",
              "    table.wandb td:nth-child(1) { padding: 0 10px; text-align: right }\n",
              "    .wandb-row { display: flex; flex-direction: row; flex-wrap: wrap; width: 100% }\n",
              "    .wandb-col { display: flex; flex-direction: column; flex-basis: 100%; flex: 1; padding: 10px; }\n",
              "    </style>\n",
              "<div class=\"wandb-row\"><div class=\"wandb-col\">\n",
              "</div><div class=\"wandb-col\">\n",
              "</div></div>\n",
              "Synced 4 W&B file(s), 0 media file(s), 4 artifact file(s) and 1 other file(s)\n",
              "<br/>Synced <strong style=\"color:#cdcd00\">crimson-wildflower-60</strong>: <a href=\"https://wandb.ai/luthier-man/test_rl/runs/28wv00py\" target=\"_blank\">https://wandb.ai/luthier-man/test_rl/runs/28wv00py</a><br/>\n",
              "Find logs at: <code>./wandb/run-20211215_231629-28wv00py/logs</code><br/>\n"
            ],
            "text/plain": [
              "<IPython.core.display.HTML object>"
            ]
          },
          "metadata": {}
        },
        {
          "output_type": "display_data",
          "data": {
            "text/html": [
              "Successfully finished last run (ID:28wv00py). Initializing new run:<br/>"
            ],
            "text/plain": [
              "<IPython.core.display.HTML object>"
            ]
          },
          "metadata": {}
        },
        {
          "output_type": "display_data",
          "data": {
            "text/html": [
              "\n",
              "                    Syncing run <strong><a href=\"https://wandb.ai/luthier-man/test_rl/runs/24ek409t\" target=\"_blank\">northern-smoke-61</a></strong> to <a href=\"https://wandb.ai/luthier-man/test_rl\" target=\"_blank\">Weights & Biases</a> (<a href=\"https://docs.wandb.com/integrations/jupyter.html\" target=\"_blank\">docs</a>).<br/>\n",
              "\n",
              "                "
            ],
            "text/plain": [
              "<IPython.core.display.HTML object>"
            ]
          },
          "metadata": {}
        },
        {
          "output_type": "stream",
          "name": "stderr",
          "text": [
            "\u001b[34m\u001b[1mwandb\u001b[0m: \u001b[33mWARNING\u001b[0m When using several event log directories, please call wandb.tensorboard.patch(root_logdir=\"...\") before wandb.init\n"
          ]
        },
        {
          "output_type": "stream",
          "name": "stdout",
          "text": [
            "Saving video to /content/videos/24ek409t/rl-video-step-0-to-step-200.mp4\n",
            "Saving video to /content/videos/24ek409t/rl-video-step-2000-to-step-2200.mp4\n",
            "Saving video to /content/videos/24ek409t/rl-video-step-4000-to-step-4200.mp4\n",
            "Saving video to /content/videos/24ek409t/rl-video-step-6000-to-step-6200.mp4\n",
            "Saving video to /content/videos/24ek409t/rl-video-step-8000-to-step-8200.mp4\n",
            "Saving video to /content/videos/24ek409t/rl-video-step-10000-to-step-10200.mp4\n",
            "Saving video to /content/videos/24ek409t/rl-video-step-12000-to-step-12200.mp4\n",
            "Saving video to /content/videos/24ek409t/rl-video-step-14000-to-step-14200.mp4\n",
            "Saving video to /content/videos/24ek409t/rl-video-step-16000-to-step-16200.mp4\n",
            "Saving video to /content/videos/24ek409t/rl-video-step-18000-to-step-18200.mp4\n",
            "Saving video to /content/videos/24ek409t/rl-video-step-20000-to-step-20200.mp4\n",
            "Saving video to /content/videos/24ek409t/rl-video-step-22000-to-step-22200.mp4\n",
            "Saving video to /content/videos/24ek409t/rl-video-step-24000-to-step-24200.mp4\n"
          ]
        },
        {
          "output_type": "display_data",
          "data": {
            "text/html": [
              "<br/>Waiting for W&B process to finish, PID 6616... <strong style=\"color:green\">(success).</strong>"
            ],
            "text/plain": [
              "<IPython.core.display.HTML object>"
            ]
          },
          "metadata": {}
        },
        {
          "output_type": "display_data",
          "data": {
            "application/vnd.jupyter.widget-view+json": {
              "model_id": "fe602ad5a49545dfae92c23ee644bdc1",
              "version_minor": 0,
              "version_major": 2
            },
            "text/plain": [
              "VBox(children=(Label(value=' 0.41MB of 0.41MB uploaded (0.00MB deduped)\\r'), FloatProgress(value=1.0, max=1.0)…"
            ]
          },
          "metadata": {}
        },
        {
          "output_type": "display_data",
          "data": {
            "text/html": [
              "<style>\n",
              "    table.wandb td:nth-child(1) { padding: 0 10px; text-align: right }\n",
              "    .wandb-row { display: flex; flex-direction: row; flex-wrap: wrap; width: 100% }\n",
              "    .wandb-col { display: flex; flex-direction: column; flex-basis: 100%; flex: 1; padding: 10px; }\n",
              "    </style>\n",
              "<div class=\"wandb-row\"><div class=\"wandb-col\">\n",
              "<h3>Run history:</h3><br/><table class=\"wandb\"><tr><td>global_step</td><td>▁▁▁▁▂▂▂▂▂▃▃▃▃▃▃▄▄▄▄▄▅▅▅▅▅▅▆▆▆▆▆▆▇▇▇▇▇███</td></tr><tr><td>rollout/ep_len_mean</td><td>▆▆▆▅▂▂▂▁▂▂▁▂▁▁▂▂▂▃▄▅██▇▅▃▃▃▃▃▄▄▄▃▃▃▃▄▅▄▃</td></tr><tr><td>rollout/ep_rew_mean</td><td>▆▆▆▅▂▂▂▁▂▂▁▂▁▁▂▂▂▃▄▅██▇▅▃▃▃▃▃▄▄▄▃▃▃▃▄▅▄▃</td></tr><tr><td>time/fps</td><td>▁▄▆▇▆▇▇▆▇▇▇▇█▇▇█▇███████████████████████</td></tr><tr><td>train/entropy_loss</td><td>▁▁▁▆▂▃▆▇▇▇▆▅█▂▃█▃▃▂▄▃▄▄▁▅▄▂▅▄▂▂▃▆▄▄▇▅▄▃▄</td></tr><tr><td>train/explained_variance</td><td>███▆████▅██▆█████▃▆▁████████████████████</td></tr><tr><td>train/learning_rate</td><td>▁▁▁▁▁▁▁▁▁▁▁▁▁▁▁▁▁▁▁▁▁▁▁▁▁▁▁▁▁▁▁▁▁▁▁▁▁▁▁▁</td></tr><tr><td>train/policy_loss</td><td>█▇███████████████████▄███▆█▁██▁█▇██▇██▂█</td></tr><tr><td>train/value_loss</td><td>▁▁▁▁▁▁▃▃▁▁▁▁▁▁▁▁▁▁▁▁▁▄▁▁▁▄▁▇▁▁█▁▂▁▁▃▁▁▇▁</td></tr></table><br/></div><div class=\"wandb-col\">\n",
              "<h3>Run summary:</h3><br/><table class=\"wandb\"><tr><td>global_step</td><td>25000</td></tr><tr><td>rollout/ep_len_mean</td><td>17.74</td></tr><tr><td>rollout/ep_rew_mean</td><td>17.74</td></tr><tr><td>time/fps</td><td>194.0</td></tr><tr><td>train/entropy_loss</td><td>-0.4677</td></tr><tr><td>train/explained_variance</td><td>0.96515</td></tr><tr><td>train/learning_rate</td><td>0.0007</td></tr><tr><td>train/policy_loss</td><td>0.05757</td></tr><tr><td>train/value_loss</td><td>0.02888</td></tr></table>\n",
              "</div></div>\n",
              "Synced 5 W&B file(s), 13 media file(s), 0 artifact file(s) and 2 other file(s)\n",
              "<br/>Synced <strong style=\"color:#cdcd00\">northern-smoke-61</strong>: <a href=\"https://wandb.ai/luthier-man/test_rl/runs/24ek409t\" target=\"_blank\">https://wandb.ai/luthier-man/test_rl/runs/24ek409t</a><br/>\n",
              "Find logs at: <code>./wandb/run-20211215_231804-24ek409t/logs</code><br/>\n"
            ],
            "text/plain": [
              "<IPython.core.display.HTML object>"
            ]
          },
          "metadata": {}
        }
      ]
    },
    {
      "cell_type": "code",
      "source": [
        "from stable_baselines3 import A2C\n",
        "from stable_baselines3.common.env_util import make_vec_env\n",
        "\n",
        "\n",
        "config_a2c = {\n",
        "    \"policy_type\": \"MlpPolicy\",\n",
        "    \"total_timesteps\": 25000,\n",
        "    \"env_name\": \"CartPole-v1\",\n",
        "    \"n_env\": 2,\n",
        "    \"policy_kwargs\": dict(activation_fn=torch.nn.ReLU, net_arch=[dict(pi=[64, 64], vf=[64, 64])]),\n",
        "    \"seed\":None\n",
        "}\n",
        "run_a2c(config_a2c)"
      ],
      "metadata": {
        "colab": {
          "base_uri": "https://localhost:8080/",
          "height": 575,
          "referenced_widgets": [
            "1fff5325122c496e94e1623b9b3817f0",
            "8cf4875f45a64b1ab03d7e77f6e2e857",
            "b37e7ca166cc4c16a7948b4a0c7318fd",
            "9263530173aa453685d7fb87c399aa61",
            "bee8cb3c4df2484596983f69f3d8ee77",
            "b433bdb6fca94538bc7ffc696403c495",
            "80cfe756003749e488104de194a316b5",
            "b2f010cfcc74416f9e7da4a61471c685"
          ]
        },
        "id": "fGoteZYTfHJ0",
        "outputId": "88773c9d-ebe7-4875-a5f1-44920b586be8"
      },
      "execution_count": 13,
      "outputs": [
        {
          "output_type": "display_data",
          "data": {
            "text/html": [
              "\n",
              "                    Syncing run <strong><a href=\"https://wandb.ai/luthier-man/test_rl/runs/3kinw763\" target=\"_blank\">easy-firefly-62</a></strong> to <a href=\"https://wandb.ai/luthier-man/test_rl\" target=\"_blank\">Weights & Biases</a> (<a href=\"https://docs.wandb.com/integrations/jupyter.html\" target=\"_blank\">docs</a>).<br/>\n",
              "\n",
              "                "
            ],
            "text/plain": [
              "<IPython.core.display.HTML object>"
            ]
          },
          "metadata": {}
        },
        {
          "output_type": "stream",
          "name": "stderr",
          "text": [
            "\u001b[34m\u001b[1mwandb\u001b[0m: \u001b[33mWARNING\u001b[0m When using several event log directories, please call wandb.tensorboard.patch(root_logdir=\"...\") before wandb.init\n"
          ]
        },
        {
          "output_type": "stream",
          "name": "stdout",
          "text": [
            "Saving video to /content/videos/3kinw763/rl-video-step-0-to-step-200.mp4\n",
            "Saving video to /content/videos/3kinw763/rl-video-step-2000-to-step-2200.mp4\n",
            "Saving video to /content/videos/3kinw763/rl-video-step-4000-to-step-4200.mp4\n",
            "Saving video to /content/videos/3kinw763/rl-video-step-6000-to-step-6200.mp4\n",
            "Saving video to /content/videos/3kinw763/rl-video-step-8000-to-step-8200.mp4\n",
            "Saving video to /content/videos/3kinw763/rl-video-step-10000-to-step-10200.mp4\n",
            "Saving video to /content/videos/3kinw763/rl-video-step-12000-to-step-12200.mp4\n"
          ]
        },
        {
          "output_type": "display_data",
          "data": {
            "text/html": [
              "<br/>Waiting for W&B process to finish, PID 6813... <strong style=\"color:green\">(success).</strong>"
            ],
            "text/plain": [
              "<IPython.core.display.HTML object>"
            ]
          },
          "metadata": {}
        },
        {
          "output_type": "display_data",
          "data": {
            "application/vnd.jupyter.widget-view+json": {
              "model_id": "1fff5325122c496e94e1623b9b3817f0",
              "version_minor": 0,
              "version_major": 2
            },
            "text/plain": [
              "VBox(children=(Label(value=' 0.52MB of 0.52MB uploaded (0.00MB deduped)\\r'), FloatProgress(value=1.0, max=1.0)…"
            ]
          },
          "metadata": {}
        },
        {
          "output_type": "display_data",
          "data": {
            "text/html": [
              "<style>\n",
              "    table.wandb td:nth-child(1) { padding: 0 10px; text-align: right }\n",
              "    .wandb-row { display: flex; flex-direction: row; flex-wrap: wrap; width: 100% }\n",
              "    .wandb-col { display: flex; flex-direction: column; flex-basis: 100%; flex: 1; padding: 10px; }\n",
              "    </style>\n",
              "<div class=\"wandb-row\"><div class=\"wandb-col\">\n",
              "<h3>Run history:</h3><br/><table class=\"wandb\"><tr><td>global_step</td><td>▁▁▂▂▂▂▃▃▃▄▄▄▅▅▅▅▆▆▆▇▇▇▇██</td></tr><tr><td>rollout/ep_len_mean</td><td>▂▂▂▁▂▁▁▁▂▂▂▂▃▄▃▂▂▂▂▂▃▄▆▇█</td></tr><tr><td>rollout/ep_rew_mean</td><td>▂▂▂▁▂▁▁▁▂▂▂▂▃▄▃▂▂▂▂▂▃▄▆▇█</td></tr><tr><td>time/fps</td><td>▁▄▆█▆▇▇█▇▇██▇▇██▇███▇████</td></tr><tr><td>train/entropy_loss</td><td>▁▁▁▁▁▂▂▁▁▁▂▂▃▅▄▅▇▅▇▇▆▅▆██</td></tr><tr><td>train/explained_variance</td><td>█▇█████████▁███▇████████▆</td></tr><tr><td>train/learning_rate</td><td>▁▁▁▁▁▁▁▁▁▁▁▁▁▁▁▁▁▁▁▁▁▁▁▁▁</td></tr><tr><td>train/policy_loss</td><td>█████▇██▇█████▇█▆▇██████▁</td></tr><tr><td>train/value_loss</td><td>▁▁▁▁▁▁▁▁▁▁▁▁▁▁▂▁▂▂▁▁▁▁▁▁█</td></tr></table><br/></div><div class=\"wandb-col\">\n",
              "<h3>Run summary:</h3><br/><table class=\"wandb\"><tr><td>global_step</td><td>25000</td></tr><tr><td>rollout/ep_len_mean</td><td>63.31</td></tr><tr><td>rollout/ep_rew_mean</td><td>63.31</td></tr><tr><td>time/fps</td><td>354.0</td></tr><tr><td>train/entropy_loss</td><td>-0.39119</td></tr><tr><td>train/explained_variance</td><td>-3.36502</td></tr><tr><td>train/learning_rate</td><td>0.0007</td></tr><tr><td>train/policy_loss</td><td>-197.41666</td></tr><tr><td>train/value_loss</td><td>61425.83203</td></tr></table>\n",
              "</div></div>\n",
              "Synced 5 W&B file(s), 7 media file(s), 2 artifact file(s) and 3 other file(s)\n",
              "<br/>Synced <strong style=\"color:#cdcd00\">easy-firefly-62</strong>: <a href=\"https://wandb.ai/luthier-man/test_rl/runs/3kinw763\" target=\"_blank\">https://wandb.ai/luthier-man/test_rl/runs/3kinw763</a><br/>\n",
              "Find logs at: <code>./wandb/run-20211215_232128-3kinw763/logs</code><br/>\n"
            ],
            "text/plain": [
              "<IPython.core.display.HTML object>"
            ]
          },
          "metadata": {}
        }
      ]
    },
    {
      "cell_type": "code",
      "source": [
        "config_a2c = {\n",
        "    \"policy_type\": \"MlpPolicy\",\n",
        "    \"total_timesteps\": 25000,\n",
        "    \"env_name\": \"CartPole-v1\",\n",
        "    \"n_env\": 3,\n",
        "    \"policy_kwargs\": dict(activation_fn=torch.nn.ReLU, net_arch=[dict(pi=[64, 64], vf=[64, 64])]),\n",
        "    \"seed\":None\n",
        "}\n",
        "run_a2c(config_a2c)"
      ],
      "metadata": {
        "colab": {
          "base_uri": "https://localhost:8080/",
          "height": 540,
          "referenced_widgets": [
            "d5ab117a96e74cba942bfc60190a6df5",
            "fe517382ffaa45f088ca88d4da1ebcf5",
            "b7c792831a644c0c99fbdd22168effcd",
            "72995268ac584a1db376f36d3b1482e5",
            "ca07da9863ca4bc6997b78669dc4acc2",
            "c47da29008964cfbb80805417b09bdab",
            "1aee1142cd224cfc80e20d8a7df6fa58",
            "6f10caef33f4446799344594e1f5ed66"
          ]
        },
        "id": "58xrkfy8aaoa",
        "outputId": "032ddba1-54d1-4629-b8f8-b83137d4577d"
      },
      "execution_count": 14,
      "outputs": [
        {
          "output_type": "display_data",
          "data": {
            "text/html": [
              "\n",
              "                    Syncing run <strong><a href=\"https://wandb.ai/luthier-man/test_rl/runs/j1altjnd\" target=\"_blank\">clear-durian-63</a></strong> to <a href=\"https://wandb.ai/luthier-man/test_rl\" target=\"_blank\">Weights & Biases</a> (<a href=\"https://docs.wandb.com/integrations/jupyter.html\" target=\"_blank\">docs</a>).<br/>\n",
              "\n",
              "                "
            ],
            "text/plain": [
              "<IPython.core.display.HTML object>"
            ]
          },
          "metadata": {}
        },
        {
          "output_type": "stream",
          "name": "stderr",
          "text": [
            "\u001b[34m\u001b[1mwandb\u001b[0m: \u001b[33mWARNING\u001b[0m When using several event log directories, please call wandb.tensorboard.patch(root_logdir=\"...\") before wandb.init\n"
          ]
        },
        {
          "output_type": "stream",
          "name": "stdout",
          "text": [
            "Saving video to /content/videos/j1altjnd/rl-video-step-0-to-step-200.mp4\n",
            "Saving video to /content/videos/j1altjnd/rl-video-step-2000-to-step-2200.mp4\n",
            "Saving video to /content/videos/j1altjnd/rl-video-step-4000-to-step-4200.mp4\n",
            "Saving video to /content/videos/j1altjnd/rl-video-step-6000-to-step-6200.mp4\n",
            "Saving video to /content/videos/j1altjnd/rl-video-step-8000-to-step-8200.mp4\n"
          ]
        },
        {
          "output_type": "display_data",
          "data": {
            "text/html": [
              "<br/>Waiting for W&B process to finish, PID 6962... <strong style=\"color:green\">(success).</strong>"
            ],
            "text/plain": [
              "<IPython.core.display.HTML object>"
            ]
          },
          "metadata": {}
        },
        {
          "output_type": "display_data",
          "data": {
            "application/vnd.jupyter.widget-view+json": {
              "model_id": "d5ab117a96e74cba942bfc60190a6df5",
              "version_minor": 0,
              "version_major": 2
            },
            "text/plain": [
              "VBox(children=(Label(value=' 0.52MB of 0.52MB uploaded (0.00MB deduped)\\r'), FloatProgress(value=1.0, max=1.0)…"
            ]
          },
          "metadata": {}
        },
        {
          "output_type": "display_data",
          "data": {
            "text/html": [
              "<style>\n",
              "    table.wandb td:nth-child(1) { padding: 0 10px; text-align: right }\n",
              "    .wandb-row { display: flex; flex-direction: row; flex-wrap: wrap; width: 100% }\n",
              "    .wandb-col { display: flex; flex-direction: column; flex-basis: 100%; flex: 1; padding: 10px; }\n",
              "    </style>\n",
              "<div class=\"wandb-row\"><div class=\"wandb-col\">\n",
              "<h3>Run history:</h3><br/><table class=\"wandb\"><tr><td>global_step</td><td>▁▁▂▂▃▃▄▄▅▅▆▆▇▇██</td></tr><tr><td>rollout/ep_len_mean</td><td>▂▁▁▁▁▁▂▂▃▃▄▅▆▆▇█</td></tr><tr><td>rollout/ep_rew_mean</td><td>▂▁▁▁▁▁▂▂▃▃▄▅▆▆▇█</td></tr><tr><td>time/fps</td><td>▁▄▆█▅▆▇█▇▇██▇▇██</td></tr><tr><td>train/entropy_loss</td><td>▁▂▁▁▁▁▁▂▃▄▅█▄▆▅▅</td></tr><tr><td>train/explained_variance</td><td>▁▆▅▅▃▃▆▄▇▇██████</td></tr><tr><td>train/learning_rate</td><td>▁▁▁▁▁▁▁▁▁▁▁▁▁▁▁▁</td></tr><tr><td>train/policy_loss</td><td>██▇▇▇▁▇▂▇▃▇▇▇▆▆▇</td></tr><tr><td>train/value_loss</td><td>▁▁▁▁▁▅▁▆▁█▁▁▁▁▁▂</td></tr></table><br/></div><div class=\"wandb-col\">\n",
              "<h3>Run summary:</h3><br/><table class=\"wandb\"><tr><td>global_step</td><td>24000</td></tr><tr><td>rollout/ep_len_mean</td><td>90.99</td></tr><tr><td>rollout/ep_rew_mean</td><td>90.99</td></tr><tr><td>time/fps</td><td>440.0</td></tr><tr><td>train/entropy_loss</td><td>-0.47363</td></tr><tr><td>train/explained_variance</td><td>0.99794</td></tr><tr><td>train/learning_rate</td><td>0.0007</td></tr><tr><td>train/policy_loss</td><td>1.07302</td></tr><tr><td>train/value_loss</td><td>66.35435</td></tr></table>\n",
              "</div></div>\n",
              "Synced 5 W&B file(s), 5 media file(s), 2 artifact file(s) and 3 other file(s)\n",
              "<br/>Synced <strong style=\"color:#cdcd00\">clear-durian-63</strong>: <a href=\"https://wandb.ai/luthier-man/test_rl/runs/j1altjnd\" target=\"_blank\">https://wandb.ai/luthier-man/test_rl/runs/j1altjnd</a><br/>\n",
              "Find logs at: <code>./wandb/run-20211215_232457-j1altjnd/logs</code><br/>\n"
            ],
            "text/plain": [
              "<IPython.core.display.HTML object>"
            ]
          },
          "metadata": {}
        }
      ]
    }
  ]
}